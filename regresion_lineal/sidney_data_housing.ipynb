{
  "nbformat": 4,
  "nbformat_minor": 0,
  "metadata": {
    "colab": {
      "provenance": [],
      "include_colab_link": true
    },
    "kernelspec": {
      "name": "python3",
      "display_name": "Python 3"
    },
    "language_info": {
      "name": "python"
    }
  },
  "cells": [
    {
      "cell_type": "markdown",
      "metadata": {
        "id": "view-in-github",
        "colab_type": "text"
      },
      "source": [
        "<a href=\"https://colab.research.google.com/github/mahuamanc/Machine_Learning2/blob/main/regresion_lineal/sidney_data_housing.ipynb\" target=\"_parent\"><img src=\"https://colab.research.google.com/assets/colab-badge.svg\" alt=\"Open In Colab\"/></a>"
      ]
    },
    {
      "cell_type": "markdown",
      "source": [
        "## Importando librerías"
      ],
      "metadata": {
        "id": "uMCcWc-8Wwqf"
      }
    },
    {
      "cell_type": "code",
      "source": [],
      "metadata": {
        "id": "62icnMm44Mru"
      },
      "execution_count": null,
      "outputs": []
    },
    {
      "cell_type": "code",
      "execution_count": null,
      "metadata": {
        "id": "zXIQJVamQjN-"
      },
      "outputs": [],
      "source": [
        "import pandas as pd\n",
        "import seaborn as sns\n",
        "import numpy as np\n",
        "import matplotlib.pyplot as plt\n"
      ]
    },
    {
      "cell_type": "markdown",
      "source": [
        "## Leyendo data"
      ],
      "metadata": {
        "id": "IzQrgrdfW0HG"
      }
    },
    {
      "cell_type": "code",
      "source": [
        "\n",
        "pddf = pd.read_csv('house_price_data.csv')\n",
        "target = 'price'"
      ],
      "metadata": {
        "id": "jjQ8XAKWQ6-v"
      },
      "execution_count": null,
      "outputs": []
    },
    {
      "cell_type": "code",
      "source": [
        "pddf.head()"
      ],
      "metadata": {
        "colab": {
          "base_uri": "https://localhost:8080/",
          "height": 461
        },
        "id": "AKcRBT_ZWc5S",
        "outputId": "1cacb363-c92d-412e-b1d4-e42e649897ae"
      },
      "execution_count": null,
      "outputs": [
        {
          "output_type": "execute_result",
          "data": {
            "text/plain": [
              "                  date      price  bedrooms  bathrooms  sqft_living  sqft_lot  \\\n",
              "0  2014-05-02 00:00:00   313000.0       3.0       1.50         1340      7912   \n",
              "1  2014-05-02 00:00:00  2384000.0       5.0       2.50         3650      9050   \n",
              "2  2014-05-02 00:00:00   342000.0       3.0       2.00         1930     11947   \n",
              "3  2014-05-02 00:00:00   420000.0       3.0       2.25         2000      8030   \n",
              "4  2014-05-02 00:00:00   550000.0       4.0       2.50         1940     10500   \n",
              "\n",
              "   floors  waterfront  view  condition  sqft_above  sqft_basement  yr_built  \\\n",
              "0     1.5           0     0          3        1340              0      1955   \n",
              "1     2.0           0     4          5        3370            280      1921   \n",
              "2     1.0           0     0          4        1930              0      1966   \n",
              "3     1.0           0     0          4        1000           1000      1963   \n",
              "4     1.0           0     0          4        1140            800      1976   \n",
              "\n",
              "   yr_renovated                    street       city  statezip country  \n",
              "0          2005      18810 Densmore Ave N  Shoreline  WA 98133     USA  \n",
              "1             0           709 W Blaine St    Seattle  WA 98119     USA  \n",
              "2             0  26206-26214 143rd Ave SE       Kent  WA 98042     USA  \n",
              "3             0           857 170th Pl NE   Bellevue  WA 98008     USA  \n",
              "4          1992         9105 170th Ave NE    Redmond  WA 98052     USA  "
            ],
            "text/html": [
              "\n",
              "  <div id=\"df-15a67b38-f8a1-40a1-b54f-9b8082573735\">\n",
              "    <div class=\"colab-df-container\">\n",
              "      <div>\n",
              "<style scoped>\n",
              "    .dataframe tbody tr th:only-of-type {\n",
              "        vertical-align: middle;\n",
              "    }\n",
              "\n",
              "    .dataframe tbody tr th {\n",
              "        vertical-align: top;\n",
              "    }\n",
              "\n",
              "    .dataframe thead th {\n",
              "        text-align: right;\n",
              "    }\n",
              "</style>\n",
              "<table border=\"1\" class=\"dataframe\">\n",
              "  <thead>\n",
              "    <tr style=\"text-align: right;\">\n",
              "      <th></th>\n",
              "      <th>date</th>\n",
              "      <th>price</th>\n",
              "      <th>bedrooms</th>\n",
              "      <th>bathrooms</th>\n",
              "      <th>sqft_living</th>\n",
              "      <th>sqft_lot</th>\n",
              "      <th>floors</th>\n",
              "      <th>waterfront</th>\n",
              "      <th>view</th>\n",
              "      <th>condition</th>\n",
              "      <th>sqft_above</th>\n",
              "      <th>sqft_basement</th>\n",
              "      <th>yr_built</th>\n",
              "      <th>yr_renovated</th>\n",
              "      <th>street</th>\n",
              "      <th>city</th>\n",
              "      <th>statezip</th>\n",
              "      <th>country</th>\n",
              "    </tr>\n",
              "  </thead>\n",
              "  <tbody>\n",
              "    <tr>\n",
              "      <th>0</th>\n",
              "      <td>2014-05-02 00:00:00</td>\n",
              "      <td>313000.0</td>\n",
              "      <td>3.0</td>\n",
              "      <td>1.50</td>\n",
              "      <td>1340</td>\n",
              "      <td>7912</td>\n",
              "      <td>1.5</td>\n",
              "      <td>0</td>\n",
              "      <td>0</td>\n",
              "      <td>3</td>\n",
              "      <td>1340</td>\n",
              "      <td>0</td>\n",
              "      <td>1955</td>\n",
              "      <td>2005</td>\n",
              "      <td>18810 Densmore Ave N</td>\n",
              "      <td>Shoreline</td>\n",
              "      <td>WA 98133</td>\n",
              "      <td>USA</td>\n",
              "    </tr>\n",
              "    <tr>\n",
              "      <th>1</th>\n",
              "      <td>2014-05-02 00:00:00</td>\n",
              "      <td>2384000.0</td>\n",
              "      <td>5.0</td>\n",
              "      <td>2.50</td>\n",
              "      <td>3650</td>\n",
              "      <td>9050</td>\n",
              "      <td>2.0</td>\n",
              "      <td>0</td>\n",
              "      <td>4</td>\n",
              "      <td>5</td>\n",
              "      <td>3370</td>\n",
              "      <td>280</td>\n",
              "      <td>1921</td>\n",
              "      <td>0</td>\n",
              "      <td>709 W Blaine St</td>\n",
              "      <td>Seattle</td>\n",
              "      <td>WA 98119</td>\n",
              "      <td>USA</td>\n",
              "    </tr>\n",
              "    <tr>\n",
              "      <th>2</th>\n",
              "      <td>2014-05-02 00:00:00</td>\n",
              "      <td>342000.0</td>\n",
              "      <td>3.0</td>\n",
              "      <td>2.00</td>\n",
              "      <td>1930</td>\n",
              "      <td>11947</td>\n",
              "      <td>1.0</td>\n",
              "      <td>0</td>\n",
              "      <td>0</td>\n",
              "      <td>4</td>\n",
              "      <td>1930</td>\n",
              "      <td>0</td>\n",
              "      <td>1966</td>\n",
              "      <td>0</td>\n",
              "      <td>26206-26214 143rd Ave SE</td>\n",
              "      <td>Kent</td>\n",
              "      <td>WA 98042</td>\n",
              "      <td>USA</td>\n",
              "    </tr>\n",
              "    <tr>\n",
              "      <th>3</th>\n",
              "      <td>2014-05-02 00:00:00</td>\n",
              "      <td>420000.0</td>\n",
              "      <td>3.0</td>\n",
              "      <td>2.25</td>\n",
              "      <td>2000</td>\n",
              "      <td>8030</td>\n",
              "      <td>1.0</td>\n",
              "      <td>0</td>\n",
              "      <td>0</td>\n",
              "      <td>4</td>\n",
              "      <td>1000</td>\n",
              "      <td>1000</td>\n",
              "      <td>1963</td>\n",
              "      <td>0</td>\n",
              "      <td>857 170th Pl NE</td>\n",
              "      <td>Bellevue</td>\n",
              "      <td>WA 98008</td>\n",
              "      <td>USA</td>\n",
              "    </tr>\n",
              "    <tr>\n",
              "      <th>4</th>\n",
              "      <td>2014-05-02 00:00:00</td>\n",
              "      <td>550000.0</td>\n",
              "      <td>4.0</td>\n",
              "      <td>2.50</td>\n",
              "      <td>1940</td>\n",
              "      <td>10500</td>\n",
              "      <td>1.0</td>\n",
              "      <td>0</td>\n",
              "      <td>0</td>\n",
              "      <td>4</td>\n",
              "      <td>1140</td>\n",
              "      <td>800</td>\n",
              "      <td>1976</td>\n",
              "      <td>1992</td>\n",
              "      <td>9105 170th Ave NE</td>\n",
              "      <td>Redmond</td>\n",
              "      <td>WA 98052</td>\n",
              "      <td>USA</td>\n",
              "    </tr>\n",
              "  </tbody>\n",
              "</table>\n",
              "</div>\n",
              "      <button class=\"colab-df-convert\" onclick=\"convertToInteractive('df-15a67b38-f8a1-40a1-b54f-9b8082573735')\"\n",
              "              title=\"Convert this dataframe to an interactive table.\"\n",
              "              style=\"display:none;\">\n",
              "        \n",
              "  <svg xmlns=\"http://www.w3.org/2000/svg\" height=\"24px\"viewBox=\"0 0 24 24\"\n",
              "       width=\"24px\">\n",
              "    <path d=\"M0 0h24v24H0V0z\" fill=\"none\"/>\n",
              "    <path d=\"M18.56 5.44l.94 2.06.94-2.06 2.06-.94-2.06-.94-.94-2.06-.94 2.06-2.06.94zm-11 1L8.5 8.5l.94-2.06 2.06-.94-2.06-.94L8.5 2.5l-.94 2.06-2.06.94zm10 10l.94 2.06.94-2.06 2.06-.94-2.06-.94-.94-2.06-.94 2.06-2.06.94z\"/><path d=\"M17.41 7.96l-1.37-1.37c-.4-.4-.92-.59-1.43-.59-.52 0-1.04.2-1.43.59L10.3 9.45l-7.72 7.72c-.78.78-.78 2.05 0 2.83L4 21.41c.39.39.9.59 1.41.59.51 0 1.02-.2 1.41-.59l7.78-7.78 2.81-2.81c.8-.78.8-2.07 0-2.86zM5.41 20L4 18.59l7.72-7.72 1.47 1.35L5.41 20z\"/>\n",
              "  </svg>\n",
              "      </button>\n",
              "      \n",
              "  <style>\n",
              "    .colab-df-container {\n",
              "      display:flex;\n",
              "      flex-wrap:wrap;\n",
              "      gap: 12px;\n",
              "    }\n",
              "\n",
              "    .colab-df-convert {\n",
              "      background-color: #E8F0FE;\n",
              "      border: none;\n",
              "      border-radius: 50%;\n",
              "      cursor: pointer;\n",
              "      display: none;\n",
              "      fill: #1967D2;\n",
              "      height: 32px;\n",
              "      padding: 0 0 0 0;\n",
              "      width: 32px;\n",
              "    }\n",
              "\n",
              "    .colab-df-convert:hover {\n",
              "      background-color: #E2EBFA;\n",
              "      box-shadow: 0px 1px 2px rgba(60, 64, 67, 0.3), 0px 1px 3px 1px rgba(60, 64, 67, 0.15);\n",
              "      fill: #174EA6;\n",
              "    }\n",
              "\n",
              "    [theme=dark] .colab-df-convert {\n",
              "      background-color: #3B4455;\n",
              "      fill: #D2E3FC;\n",
              "    }\n",
              "\n",
              "    [theme=dark] .colab-df-convert:hover {\n",
              "      background-color: #434B5C;\n",
              "      box-shadow: 0px 1px 3px 1px rgba(0, 0, 0, 0.15);\n",
              "      filter: drop-shadow(0px 1px 2px rgba(0, 0, 0, 0.3));\n",
              "      fill: #FFFFFF;\n",
              "    }\n",
              "  </style>\n",
              "\n",
              "      <script>\n",
              "        const buttonEl =\n",
              "          document.querySelector('#df-15a67b38-f8a1-40a1-b54f-9b8082573735 button.colab-df-convert');\n",
              "        buttonEl.style.display =\n",
              "          google.colab.kernel.accessAllowed ? 'block' : 'none';\n",
              "\n",
              "        async function convertToInteractive(key) {\n",
              "          const element = document.querySelector('#df-15a67b38-f8a1-40a1-b54f-9b8082573735');\n",
              "          const dataTable =\n",
              "            await google.colab.kernel.invokeFunction('convertToInteractive',\n",
              "                                                     [key], {});\n",
              "          if (!dataTable) return;\n",
              "\n",
              "          const docLinkHtml = 'Like what you see? Visit the ' +\n",
              "            '<a target=\"_blank\" href=https://colab.research.google.com/notebooks/data_table.ipynb>data table notebook</a>'\n",
              "            + ' to learn more about interactive tables.';\n",
              "          element.innerHTML = '';\n",
              "          dataTable['output_type'] = 'display_data';\n",
              "          await google.colab.output.renderOutput(dataTable, element);\n",
              "          const docLink = document.createElement('div');\n",
              "          docLink.innerHTML = docLinkHtml;\n",
              "          element.appendChild(docLink);\n",
              "        }\n",
              "      </script>\n",
              "    </div>\n",
              "  </div>\n",
              "  "
            ]
          },
          "metadata": {},
          "execution_count": 37
        }
      ]
    },
    {
      "cell_type": "code",
      "source": [
        "pddf.describe().transpose()"
      ],
      "metadata": {
        "id": "TjR7a1JnK4u3",
        "outputId": "f1f4b454-32ad-4410-c46c-9d0d12639406",
        "colab": {
          "base_uri": "https://localhost:8080/",
          "height": 457
        }
      },
      "execution_count": null,
      "outputs": [
        {
          "output_type": "execute_result",
          "data": {
            "text/plain": [
              "                count           mean            std     min        25%  \\\n",
              "price          4600.0  551962.988473  563834.702547     0.0  322875.00   \n",
              "bedrooms       4600.0       3.400870       0.908848     0.0       3.00   \n",
              "bathrooms      4600.0       2.160815       0.783781     0.0       1.75   \n",
              "sqft_living    4600.0    2139.346957     963.206916   370.0    1460.00   \n",
              "sqft_lot       4600.0   14852.516087   35884.436145   638.0    5000.75   \n",
              "floors         4600.0       1.512065       0.538288     1.0       1.00   \n",
              "waterfront     4600.0       0.007174       0.084404     0.0       0.00   \n",
              "view           4600.0       0.240652       0.778405     0.0       0.00   \n",
              "condition      4600.0       3.451739       0.677230     1.0       3.00   \n",
              "sqft_above     4600.0    1827.265435     862.168977   370.0    1190.00   \n",
              "sqft_basement  4600.0     312.081522     464.137228     0.0       0.00   \n",
              "yr_built       4600.0    1970.786304      29.731848  1900.0    1951.00   \n",
              "yr_renovated   4600.0     808.608261     979.414536     0.0       0.00   \n",
              "\n",
              "                         50%        75%         max  \n",
              "price          460943.461539  654962.50  26590000.0  \n",
              "bedrooms            3.000000       4.00         9.0  \n",
              "bathrooms           2.250000       2.50         8.0  \n",
              "sqft_living      1980.000000    2620.00     13540.0  \n",
              "sqft_lot         7683.000000   11001.25   1074218.0  \n",
              "floors              1.500000       2.00         3.5  \n",
              "waterfront          0.000000       0.00         1.0  \n",
              "view                0.000000       0.00         4.0  \n",
              "condition           3.000000       4.00         5.0  \n",
              "sqft_above       1590.000000    2300.00      9410.0  \n",
              "sqft_basement       0.000000     610.00      4820.0  \n",
              "yr_built         1976.000000    1997.00      2014.0  \n",
              "yr_renovated        0.000000    1999.00      2014.0  "
            ],
            "text/html": [
              "\n",
              "  <div id=\"df-671cf027-f5fb-4106-bc55-ff818cc9eea2\">\n",
              "    <div class=\"colab-df-container\">\n",
              "      <div>\n",
              "<style scoped>\n",
              "    .dataframe tbody tr th:only-of-type {\n",
              "        vertical-align: middle;\n",
              "    }\n",
              "\n",
              "    .dataframe tbody tr th {\n",
              "        vertical-align: top;\n",
              "    }\n",
              "\n",
              "    .dataframe thead th {\n",
              "        text-align: right;\n",
              "    }\n",
              "</style>\n",
              "<table border=\"1\" class=\"dataframe\">\n",
              "  <thead>\n",
              "    <tr style=\"text-align: right;\">\n",
              "      <th></th>\n",
              "      <th>count</th>\n",
              "      <th>mean</th>\n",
              "      <th>std</th>\n",
              "      <th>min</th>\n",
              "      <th>25%</th>\n",
              "      <th>50%</th>\n",
              "      <th>75%</th>\n",
              "      <th>max</th>\n",
              "    </tr>\n",
              "  </thead>\n",
              "  <tbody>\n",
              "    <tr>\n",
              "      <th>price</th>\n",
              "      <td>4600.0</td>\n",
              "      <td>551962.988473</td>\n",
              "      <td>563834.702547</td>\n",
              "      <td>0.0</td>\n",
              "      <td>322875.00</td>\n",
              "      <td>460943.461539</td>\n",
              "      <td>654962.50</td>\n",
              "      <td>26590000.0</td>\n",
              "    </tr>\n",
              "    <tr>\n",
              "      <th>bedrooms</th>\n",
              "      <td>4600.0</td>\n",
              "      <td>3.400870</td>\n",
              "      <td>0.908848</td>\n",
              "      <td>0.0</td>\n",
              "      <td>3.00</td>\n",
              "      <td>3.000000</td>\n",
              "      <td>4.00</td>\n",
              "      <td>9.0</td>\n",
              "    </tr>\n",
              "    <tr>\n",
              "      <th>bathrooms</th>\n",
              "      <td>4600.0</td>\n",
              "      <td>2.160815</td>\n",
              "      <td>0.783781</td>\n",
              "      <td>0.0</td>\n",
              "      <td>1.75</td>\n",
              "      <td>2.250000</td>\n",
              "      <td>2.50</td>\n",
              "      <td>8.0</td>\n",
              "    </tr>\n",
              "    <tr>\n",
              "      <th>sqft_living</th>\n",
              "      <td>4600.0</td>\n",
              "      <td>2139.346957</td>\n",
              "      <td>963.206916</td>\n",
              "      <td>370.0</td>\n",
              "      <td>1460.00</td>\n",
              "      <td>1980.000000</td>\n",
              "      <td>2620.00</td>\n",
              "      <td>13540.0</td>\n",
              "    </tr>\n",
              "    <tr>\n",
              "      <th>sqft_lot</th>\n",
              "      <td>4600.0</td>\n",
              "      <td>14852.516087</td>\n",
              "      <td>35884.436145</td>\n",
              "      <td>638.0</td>\n",
              "      <td>5000.75</td>\n",
              "      <td>7683.000000</td>\n",
              "      <td>11001.25</td>\n",
              "      <td>1074218.0</td>\n",
              "    </tr>\n",
              "    <tr>\n",
              "      <th>floors</th>\n",
              "      <td>4600.0</td>\n",
              "      <td>1.512065</td>\n",
              "      <td>0.538288</td>\n",
              "      <td>1.0</td>\n",
              "      <td>1.00</td>\n",
              "      <td>1.500000</td>\n",
              "      <td>2.00</td>\n",
              "      <td>3.5</td>\n",
              "    </tr>\n",
              "    <tr>\n",
              "      <th>waterfront</th>\n",
              "      <td>4600.0</td>\n",
              "      <td>0.007174</td>\n",
              "      <td>0.084404</td>\n",
              "      <td>0.0</td>\n",
              "      <td>0.00</td>\n",
              "      <td>0.000000</td>\n",
              "      <td>0.00</td>\n",
              "      <td>1.0</td>\n",
              "    </tr>\n",
              "    <tr>\n",
              "      <th>view</th>\n",
              "      <td>4600.0</td>\n",
              "      <td>0.240652</td>\n",
              "      <td>0.778405</td>\n",
              "      <td>0.0</td>\n",
              "      <td>0.00</td>\n",
              "      <td>0.000000</td>\n",
              "      <td>0.00</td>\n",
              "      <td>4.0</td>\n",
              "    </tr>\n",
              "    <tr>\n",
              "      <th>condition</th>\n",
              "      <td>4600.0</td>\n",
              "      <td>3.451739</td>\n",
              "      <td>0.677230</td>\n",
              "      <td>1.0</td>\n",
              "      <td>3.00</td>\n",
              "      <td>3.000000</td>\n",
              "      <td>4.00</td>\n",
              "      <td>5.0</td>\n",
              "    </tr>\n",
              "    <tr>\n",
              "      <th>sqft_above</th>\n",
              "      <td>4600.0</td>\n",
              "      <td>1827.265435</td>\n",
              "      <td>862.168977</td>\n",
              "      <td>370.0</td>\n",
              "      <td>1190.00</td>\n",
              "      <td>1590.000000</td>\n",
              "      <td>2300.00</td>\n",
              "      <td>9410.0</td>\n",
              "    </tr>\n",
              "    <tr>\n",
              "      <th>sqft_basement</th>\n",
              "      <td>4600.0</td>\n",
              "      <td>312.081522</td>\n",
              "      <td>464.137228</td>\n",
              "      <td>0.0</td>\n",
              "      <td>0.00</td>\n",
              "      <td>0.000000</td>\n",
              "      <td>610.00</td>\n",
              "      <td>4820.0</td>\n",
              "    </tr>\n",
              "    <tr>\n",
              "      <th>yr_built</th>\n",
              "      <td>4600.0</td>\n",
              "      <td>1970.786304</td>\n",
              "      <td>29.731848</td>\n",
              "      <td>1900.0</td>\n",
              "      <td>1951.00</td>\n",
              "      <td>1976.000000</td>\n",
              "      <td>1997.00</td>\n",
              "      <td>2014.0</td>\n",
              "    </tr>\n",
              "    <tr>\n",
              "      <th>yr_renovated</th>\n",
              "      <td>4600.0</td>\n",
              "      <td>808.608261</td>\n",
              "      <td>979.414536</td>\n",
              "      <td>0.0</td>\n",
              "      <td>0.00</td>\n",
              "      <td>0.000000</td>\n",
              "      <td>1999.00</td>\n",
              "      <td>2014.0</td>\n",
              "    </tr>\n",
              "  </tbody>\n",
              "</table>\n",
              "</div>\n",
              "      <button class=\"colab-df-convert\" onclick=\"convertToInteractive('df-671cf027-f5fb-4106-bc55-ff818cc9eea2')\"\n",
              "              title=\"Convert this dataframe to an interactive table.\"\n",
              "              style=\"display:none;\">\n",
              "        \n",
              "  <svg xmlns=\"http://www.w3.org/2000/svg\" height=\"24px\"viewBox=\"0 0 24 24\"\n",
              "       width=\"24px\">\n",
              "    <path d=\"M0 0h24v24H0V0z\" fill=\"none\"/>\n",
              "    <path d=\"M18.56 5.44l.94 2.06.94-2.06 2.06-.94-2.06-.94-.94-2.06-.94 2.06-2.06.94zm-11 1L8.5 8.5l.94-2.06 2.06-.94-2.06-.94L8.5 2.5l-.94 2.06-2.06.94zm10 10l.94 2.06.94-2.06 2.06-.94-2.06-.94-.94-2.06-.94 2.06-2.06.94z\"/><path d=\"M17.41 7.96l-1.37-1.37c-.4-.4-.92-.59-1.43-.59-.52 0-1.04.2-1.43.59L10.3 9.45l-7.72 7.72c-.78.78-.78 2.05 0 2.83L4 21.41c.39.39.9.59 1.41.59.51 0 1.02-.2 1.41-.59l7.78-7.78 2.81-2.81c.8-.78.8-2.07 0-2.86zM5.41 20L4 18.59l7.72-7.72 1.47 1.35L5.41 20z\"/>\n",
              "  </svg>\n",
              "      </button>\n",
              "      \n",
              "  <style>\n",
              "    .colab-df-container {\n",
              "      display:flex;\n",
              "      flex-wrap:wrap;\n",
              "      gap: 12px;\n",
              "    }\n",
              "\n",
              "    .colab-df-convert {\n",
              "      background-color: #E8F0FE;\n",
              "      border: none;\n",
              "      border-radius: 50%;\n",
              "      cursor: pointer;\n",
              "      display: none;\n",
              "      fill: #1967D2;\n",
              "      height: 32px;\n",
              "      padding: 0 0 0 0;\n",
              "      width: 32px;\n",
              "    }\n",
              "\n",
              "    .colab-df-convert:hover {\n",
              "      background-color: #E2EBFA;\n",
              "      box-shadow: 0px 1px 2px rgba(60, 64, 67, 0.3), 0px 1px 3px 1px rgba(60, 64, 67, 0.15);\n",
              "      fill: #174EA6;\n",
              "    }\n",
              "\n",
              "    [theme=dark] .colab-df-convert {\n",
              "      background-color: #3B4455;\n",
              "      fill: #D2E3FC;\n",
              "    }\n",
              "\n",
              "    [theme=dark] .colab-df-convert:hover {\n",
              "      background-color: #434B5C;\n",
              "      box-shadow: 0px 1px 3px 1px rgba(0, 0, 0, 0.15);\n",
              "      filter: drop-shadow(0px 1px 2px rgba(0, 0, 0, 0.3));\n",
              "      fill: #FFFFFF;\n",
              "    }\n",
              "  </style>\n",
              "\n",
              "      <script>\n",
              "        const buttonEl =\n",
              "          document.querySelector('#df-671cf027-f5fb-4106-bc55-ff818cc9eea2 button.colab-df-convert');\n",
              "        buttonEl.style.display =\n",
              "          google.colab.kernel.accessAllowed ? 'block' : 'none';\n",
              "\n",
              "        async function convertToInteractive(key) {\n",
              "          const element = document.querySelector('#df-671cf027-f5fb-4106-bc55-ff818cc9eea2');\n",
              "          const dataTable =\n",
              "            await google.colab.kernel.invokeFunction('convertToInteractive',\n",
              "                                                     [key], {});\n",
              "          if (!dataTable) return;\n",
              "\n",
              "          const docLinkHtml = 'Like what you see? Visit the ' +\n",
              "            '<a target=\"_blank\" href=https://colab.research.google.com/notebooks/data_table.ipynb>data table notebook</a>'\n",
              "            + ' to learn more about interactive tables.';\n",
              "          element.innerHTML = '';\n",
              "          dataTable['output_type'] = 'display_data';\n",
              "          await google.colab.output.renderOutput(dataTable, element);\n",
              "          const docLink = document.createElement('div');\n",
              "          docLink.innerHTML = docLinkHtml;\n",
              "          element.appendChild(docLink);\n",
              "        }\n",
              "      </script>\n",
              "    </div>\n",
              "  </div>\n",
              "  "
            ]
          },
          "metadata": {},
          "execution_count": 38
        }
      ]
    },
    {
      "cell_type": "code",
      "source": [
        "np.percentile(pddf.price, 2)"
      ],
      "metadata": {
        "id": "nay44ihjLjt-",
        "outputId": "91fca8df-cae3-475b-960e-c161c1a13997",
        "colab": {
          "base_uri": "https://localhost:8080/"
        }
      },
      "execution_count": null,
      "outputs": [
        {
          "output_type": "execute_result",
          "data": {
            "text/plain": [
              "142486.0"
            ]
          },
          "metadata": {},
          "execution_count": 39
        }
      ]
    },
    {
      "cell_type": "code",
      "source": [
        "# Ajuste de la data por existencia de valores incoherentes\n",
        "\n",
        "pddf = pddf.loc[pddf.price >= 10000]\n"
      ],
      "metadata": {
        "id": "uN3dhH8gLH8y"
      },
      "execution_count": null,
      "outputs": []
    },
    {
      "cell_type": "code",
      "source": [
        "#Creamos variables de antiguedad\n",
        "pddf['year'] = pddf.date.apply(lambda x: int(x[:4]))\n",
        "pddf['ant_built'] = pddf.year - pddf.yr_built\n",
        "pddf['ant_renovated'] = pddf.year - pddf.yr_renovated.apply(lambda x: None if x == 0 else x)\n"
      ],
      "metadata": {
        "id": "dtUUYW5fAX02",
        "outputId": "b7757ae4-3bda-4ed8-afbc-1314b9dffc69",
        "colab": {
          "base_uri": "https://localhost:8080/"
        }
      },
      "execution_count": null,
      "outputs": [
        {
          "output_type": "stream",
          "name": "stderr",
          "text": [
            "<ipython-input-41-b3759f070d03>:2: SettingWithCopyWarning: \n",
            "A value is trying to be set on a copy of a slice from a DataFrame.\n",
            "Try using .loc[row_indexer,col_indexer] = value instead\n",
            "\n",
            "See the caveats in the documentation: https://pandas.pydata.org/pandas-docs/stable/user_guide/indexing.html#returning-a-view-versus-a-copy\n",
            "  pddf['year'] = pddf.date.apply(lambda x: int(x[:4]))\n",
            "<ipython-input-41-b3759f070d03>:3: SettingWithCopyWarning: \n",
            "A value is trying to be set on a copy of a slice from a DataFrame.\n",
            "Try using .loc[row_indexer,col_indexer] = value instead\n",
            "\n",
            "See the caveats in the documentation: https://pandas.pydata.org/pandas-docs/stable/user_guide/indexing.html#returning-a-view-versus-a-copy\n",
            "  pddf['ant_built'] = pddf.year - pddf.yr_built\n",
            "<ipython-input-41-b3759f070d03>:4: SettingWithCopyWarning: \n",
            "A value is trying to be set on a copy of a slice from a DataFrame.\n",
            "Try using .loc[row_indexer,col_indexer] = value instead\n",
            "\n",
            "See the caveats in the documentation: https://pandas.pydata.org/pandas-docs/stable/user_guide/indexing.html#returning-a-view-versus-a-copy\n",
            "  pddf['ant_renovated'] = pddf.year - pddf.yr_renovated.apply(lambda x: None if x == 0 else x)\n"
          ]
        }
      ]
    },
    {
      "cell_type": "code",
      "source": [
        "pddf.ant_built.hist()"
      ],
      "metadata": {
        "colab": {
          "base_uri": "https://localhost:8080/",
          "height": 282
        },
        "id": "xYPeuxvK_5j0",
        "outputId": "023adcc5-bee0-4a61-f33e-21a8a005606f"
      },
      "execution_count": null,
      "outputs": [
        {
          "output_type": "execute_result",
          "data": {
            "text/plain": [
              "<AxesSubplot:>"
            ]
          },
          "metadata": {},
          "execution_count": 42
        },
        {
          "output_type": "display_data",
          "data": {
            "text/plain": [
              "<Figure size 432x288 with 1 Axes>"
            ],
            "image/png": "[encoded data removed]"
          },
          "metadata": {
            "needs_background": "light"
          }
        }
      ]
    },
    {
      "cell_type": "code",
      "source": [
        "# Este código selecciona las columnas de tipo categóricas\n",
        "pddf.select_dtypes(include = 'object').columns.tolist()\n"
      ],
      "metadata": {
        "colab": {
          "base_uri": "https://localhost:8080/"
        },
        "id": "5Nx9OkYcCKSb",
        "outputId": "0cca0230-c8be-4c53-dcdd-eddb6f4c221e"
      },
      "execution_count": null,
      "outputs": [
        {
          "output_type": "execute_result",
          "data": {
            "text/plain": [
              "['date', 'street', 'city', 'statezip', 'country']"
            ]
          },
          "metadata": {},
          "execution_count": 43
        }
      ]
    },
    {
      "cell_type": "code",
      "source": [
        "\n",
        "tot_feats = pddf.columns.tolist() #Todas las columnas del dataset\n",
        "rmv_feats = ['price', 'year', 'yr_built', 'yr_renovated'] #Variables que no nos hacen sentido de incluir\n",
        "cat_feats = pddf.select_dtypes(include = 'object').columns.tolist() #Variables categóricas\n",
        "\n",
        "features = list(set(tot_feats) - set(rmv_feats + cat_feats))\n",
        "data = pddf[features + [target]]\n"
      ],
      "metadata": {
        "id": "b3DoT6RNByv1"
      },
      "execution_count": null,
      "outputs": []
    },
    {
      "cell_type": "code",
      "source": [
        "data.head()"
      ],
      "metadata": {
        "colab": {
          "base_uri": "https://localhost:8080/",
          "height": 206
        },
        "id": "DBbDSgUpYvx3",
        "outputId": "63b1642b-b5aa-49fe-87c8-67e7e852255a"
      },
      "execution_count": null,
      "outputs": [
        {
          "output_type": "execute_result",
          "data": {
            "text/plain": [
              "   sqft_living  sqft_lot  bedrooms  waterfront  sqft_above  condition  \\\n",
              "0         1340      7912       3.0           0        1340          3   \n",
              "1         3650      9050       5.0           0        3370          5   \n",
              "2         1930     11947       3.0           0        1930          4   \n",
              "3         2000      8030       3.0           0        1000          4   \n",
              "4         1940     10500       4.0           0        1140          4   \n",
              "\n",
              "   sqft_basement  view  floors  bathrooms  ant_renovated  ant_built      price  \n",
              "0              0     0     1.5       1.50            9.0         59   313000.0  \n",
              "1            280     4     2.0       2.50            NaN         93  2384000.0  \n",
              "2              0     0     1.0       2.00            NaN         48   342000.0  \n",
              "3           1000     0     1.0       2.25            NaN         51   420000.0  \n",
              "4            800     0     1.0       2.50           22.0         38   550000.0  "
            ],
            "text/html": [
              "\n",
              "  <div id=\"df-a9d90265-58f2-43a1-ab9c-91fd27fa2b4e\">\n",
              "    <div class=\"colab-df-container\">\n",
              "      <div>\n",
              "<style scoped>\n",
              "    .dataframe tbody tr th:only-of-type {\n",
              "        vertical-align: middle;\n",
              "    }\n",
              "\n",
              "    .dataframe tbody tr th {\n",
              "        vertical-align: top;\n",
              "    }\n",
              "\n",
              "    .dataframe thead th {\n",
              "        text-align: right;\n",
              "    }\n",
              "</style>\n",
              "<table border=\"1\" class=\"dataframe\">\n",
              "  <thead>\n",
              "    <tr style=\"text-align: right;\">\n",
              "      <th></th>\n",
              "      <th>sqft_living</th>\n",
              "      <th>sqft_lot</th>\n",
              "      <th>bedrooms</th>\n",
              "      <th>waterfront</th>\n",
              "      <th>sqft_above</th>\n",
              "      <th>condition</th>\n",
              "      <th>sqft_basement</th>\n",
              "      <th>view</th>\n",
              "      <th>floors</th>\n",
              "      <th>bathrooms</th>\n",
              "      <th>ant_renovated</th>\n",
              "      <th>ant_built</th>\n",
              "      <th>price</th>\n",
              "    </tr>\n",
              "  </thead>\n",
              "  <tbody>\n",
              "    <tr>\n",
              "      <th>0</th>\n",
              "      <td>1340</td>\n",
              "      <td>7912</td>\n",
              "      <td>3.0</td>\n",
              "      <td>0</td>\n",
              "      <td>1340</td>\n",
              "      <td>3</td>\n",
              "      <td>0</td>\n",
              "      <td>0</td>\n",
              "      <td>1.5</td>\n",
              "      <td>1.50</td>\n",
              "      <td>9.0</td>\n",
              "      <td>59</td>\n",
              "      <td>313000.0</td>\n",
              "    </tr>\n",
              "    <tr>\n",
              "      <th>1</th>\n",
              "      <td>3650</td>\n",
              "      <td>9050</td>\n",
              "      <td>5.0</td>\n",
              "      <td>0</td>\n",
              "      <td>3370</td>\n",
              "      <td>5</td>\n",
              "      <td>280</td>\n",
              "      <td>4</td>\n",
              "      <td>2.0</td>\n",
              "      <td>2.50</td>\n",
              "      <td>NaN</td>\n",
              "      <td>93</td>\n",
              "      <td>2384000.0</td>\n",
              "    </tr>\n",
              "    <tr>\n",
              "      <th>2</th>\n",
              "      <td>1930</td>\n",
              "      <td>11947</td>\n",
              "      <td>3.0</td>\n",
              "      <td>0</td>\n",
              "      <td>1930</td>\n",
              "      <td>4</td>\n",
              "      <td>0</td>\n",
              "      <td>0</td>\n",
              "      <td>1.0</td>\n",
              "      <td>2.00</td>\n",
              "      <td>NaN</td>\n",
              "      <td>48</td>\n",
              "      <td>342000.0</td>\n",
              "    </tr>\n",
              "    <tr>\n",
              "      <th>3</th>\n",
              "      <td>2000</td>\n",
              "      <td>8030</td>\n",
              "      <td>3.0</td>\n",
              "      <td>0</td>\n",
              "      <td>1000</td>\n",
              "      <td>4</td>\n",
              "      <td>1000</td>\n",
              "      <td>0</td>\n",
              "      <td>1.0</td>\n",
              "      <td>2.25</td>\n",
              "      <td>NaN</td>\n",
              "      <td>51</td>\n",
              "      <td>420000.0</td>\n",
              "    </tr>\n",
              "    <tr>\n",
              "      <th>4</th>\n",
              "      <td>1940</td>\n",
              "      <td>10500</td>\n",
              "      <td>4.0</td>\n",
              "      <td>0</td>\n",
              "      <td>1140</td>\n",
              "      <td>4</td>\n",
              "      <td>800</td>\n",
              "      <td>0</td>\n",
              "      <td>1.0</td>\n",
              "      <td>2.50</td>\n",
              "      <td>22.0</td>\n",
              "      <td>38</td>\n",
              "      <td>550000.0</td>\n",
              "    </tr>\n",
              "  </tbody>\n",
              "</table>\n",
              "</div>\n",
              "      <button class=\"colab-df-convert\" onclick=\"convertToInteractive('df-a9d90265-58f2-43a1-ab9c-91fd27fa2b4e')\"\n",
              "              title=\"Convert this dataframe to an interactive table.\"\n",
              "              style=\"display:none;\">\n",
              "        \n",
              "  <svg xmlns=\"http://www.w3.org/2000/svg\" height=\"24px\"viewBox=\"0 0 24 24\"\n",
              "       width=\"24px\">\n",
              "    <path d=\"M0 0h24v24H0V0z\" fill=\"none\"/>\n",
              "    <path d=\"M18.56 5.44l.94 2.06.94-2.06 2.06-.94-2.06-.94-.94-2.06-.94 2.06-2.06.94zm-11 1L8.5 8.5l.94-2.06 2.06-.94-2.06-.94L8.5 2.5l-.94 2.06-2.06.94zm10 10l.94 2.06.94-2.06 2.06-.94-2.06-.94-.94-2.06-.94 2.06-2.06.94z\"/><path d=\"M17.41 7.96l-1.37-1.37c-.4-.4-.92-.59-1.43-.59-.52 0-1.04.2-1.43.59L10.3 9.45l-7.72 7.72c-.78.78-.78 2.05 0 2.83L4 21.41c.39.39.9.59 1.41.59.51 0 1.02-.2 1.41-.59l7.78-7.78 2.81-2.81c.8-.78.8-2.07 0-2.86zM5.41 20L4 18.59l7.72-7.72 1.47 1.35L5.41 20z\"/>\n",
              "  </svg>\n",
              "      </button>\n",
              "      \n",
              "  <style>\n",
              "    .colab-df-container {\n",
              "      display:flex;\n",
              "      flex-wrap:wrap;\n",
              "      gap: 12px;\n",
              "    }\n",
              "\n",
              "    .colab-df-convert {\n",
              "      background-color: #E8F0FE;\n",
              "      border: none;\n",
              "      border-radius: 50%;\n",
              "      cursor: pointer;\n",
              "      display: none;\n",
              "      fill: #1967D2;\n",
              "      height: 32px;\n",
              "      padding: 0 0 0 0;\n",
              "      width: 32px;\n",
              "    }\n",
              "\n",
              "    .colab-df-convert:hover {\n",
              "      background-color: #E2EBFA;\n",
              "      box-shadow: 0px 1px 2px rgba(60, 64, 67, 0.3), 0px 1px 3px 1px rgba(60, 64, 67, 0.15);\n",
              "      fill: #174EA6;\n",
              "    }\n",
              "\n",
              "    [theme=dark] .colab-df-convert {\n",
              "      background-color: #3B4455;\n",
              "      fill: #D2E3FC;\n",
              "    }\n",
              "\n",
              "    [theme=dark] .colab-df-convert:hover {\n",
              "      background-color: #434B5C;\n",
              "      box-shadow: 0px 1px 3px 1px rgba(0, 0, 0, 0.15);\n",
              "      filter: drop-shadow(0px 1px 2px rgba(0, 0, 0, 0.3));\n",
              "      fill: #FFFFFF;\n",
              "    }\n",
              "  </style>\n",
              "\n",
              "      <script>\n",
              "        const buttonEl =\n",
              "          document.querySelector('#df-a9d90265-58f2-43a1-ab9c-91fd27fa2b4e button.colab-df-convert');\n",
              "        buttonEl.style.display =\n",
              "          google.colab.kernel.accessAllowed ? 'block' : 'none';\n",
              "\n",
              "        async function convertToInteractive(key) {\n",
              "          const element = document.querySelector('#df-a9d90265-58f2-43a1-ab9c-91fd27fa2b4e');\n",
              "          const dataTable =\n",
              "            await google.colab.kernel.invokeFunction('convertToInteractive',\n",
              "                                                     [key], {});\n",
              "          if (!dataTable) return;\n",
              "\n",
              "          const docLinkHtml = 'Like what you see? Visit the ' +\n",
              "            '<a target=\"_blank\" href=https://colab.research.google.com/notebooks/data_table.ipynb>data table notebook</a>'\n",
              "            + ' to learn more about interactive tables.';\n",
              "          element.innerHTML = '';\n",
              "          dataTable['output_type'] = 'display_data';\n",
              "          await google.colab.output.renderOutput(dataTable, element);\n",
              "          const docLink = document.createElement('div');\n",
              "          docLink.innerHTML = docLinkHtml;\n",
              "          element.appendChild(docLink);\n",
              "        }\n",
              "      </script>\n",
              "    </div>\n",
              "  </div>\n",
              "  "
            ]
          },
          "metadata": {},
          "execution_count": 45
        }
      ]
    },
    {
      "cell_type": "markdown",
      "source": [
        "## 2. Selección de muestras"
      ],
      "metadata": {
        "id": "NvQU2m4yVZWV"
      }
    },
    {
      "cell_type": "code",
      "source": [
        "# Muestreo\n",
        "\n",
        "from sklearn.model_selection import train_test_split\n",
        "\n",
        "train, test = train_test_split(data, \n",
        "                               train_size = 0.7, \n",
        "                               random_state = 123)\n"
      ],
      "metadata": {
        "id": "QpOqR19FVb2u"
      },
      "execution_count": null,
      "outputs": []
    },
    {
      "cell_type": "code",
      "source": [
        "print(f\"Total data size: {data.shape}\")\n",
        "print(f\"Total train size: {train.shape}\")\n",
        "print(f\"Total test size: {test.shape}\")"
      ],
      "metadata": {
        "id": "URSJ4M8AYND1",
        "outputId": "9a7c94e6-e1c4-483a-d431-9bd3c5f8fe41",
        "colab": {
          "base_uri": "https://localhost:8080/"
        }
      },
      "execution_count": null,
      "outputs": [
        {
          "output_type": "stream",
          "name": "stdout",
          "text": [
            "Total data size: (4550, 13)\n",
            "Total train size: (3185, 13)\n",
            "Total test size: (1365, 13)\n"
          ]
        }
      ]
    },
    {
      "cell_type": "markdown",
      "source": [
        "## Analisis univariado y tratamiento de datos"
      ],
      "metadata": {
        "id": "shcvuTU28TKd"
      }
    },
    {
      "cell_type": "code",
      "source": [
        "\n",
        "#sns.relplot(x = 'bathrooms', y = 'price', data = train.loc[train.price<5000000])\n",
        "sns.regplot(x = 'bathrooms', y = 'price', data = train.loc[train.price<5000000])"
      ],
      "metadata": {
        "id": "cZugWOYBfUIt",
        "outputId": "a7028ad2-bb83-4b80-a255-ed5cce21314a",
        "colab": {
          "base_uri": "https://localhost:8080/",
          "height": 307
        }
      },
      "execution_count": null,
      "outputs": [
        {
          "output_type": "execute_result",
          "data": {
            "text/plain": [
              "<AxesSubplot:xlabel='bathrooms', ylabel='price'>"
            ]
          },
          "metadata": {},
          "execution_count": 48
        },
        {
          "output_type": "display_data",
          "data": {
            "text/plain": [
              "<Figure size 432x288 with 1 Axes>"
            ],
            "image/png": "[encoded data removed]"
          },
          "metadata": {
            "needs_background": "light"
          }
        }
      ]
    },
    {
      "cell_type": "code",
      "source": [
        "corr_matrix = train.corr()\n",
        "corr_matrix.reset_index()"
      ],
      "metadata": {
        "id": "AbNCbFuAh2Jk",
        "outputId": "95fe16fd-c7d2-4176-8a38-5e0eea1ef498",
        "colab": {
          "base_uri": "https://localhost:8080/",
          "height": 521
        }
      },
      "execution_count": null,
      "outputs": [
        {
          "output_type": "execute_result",
          "data": {
            "text/plain": [
              "            index  sqft_living  sqft_lot  bedrooms  waterfront  sqft_above  \\\n",
              "0     sqft_living     1.000000  0.227602  0.588685    0.124573    0.872278   \n",
              "1        sqft_lot     0.227602  1.000000  0.044483    0.016466    0.240795   \n",
              "2        bedrooms     0.588685  0.044483  1.000000   -0.010966    0.471809   \n",
              "3      waterfront     0.124573  0.016466 -0.010966    1.000000    0.079909   \n",
              "4      sqft_above     0.872278  0.240795  0.471809    0.079909    1.000000   \n",
              "5       condition    -0.055878 -0.032911  0.044796   -0.003033   -0.177321   \n",
              "6   sqft_basement     0.454062  0.026342  0.343254    0.108951   -0.039625   \n",
              "7            view     0.321671  0.074838  0.118504    0.339409    0.175001   \n",
              "8          floors     0.332886  0.009614  0.165841    0.001812    0.517045   \n",
              "9       bathrooms     0.752949  0.102201  0.548973    0.050420    0.683782   \n",
              "10  ant_renovated     0.073332 -0.067352  0.067724   -0.011462    0.126512   \n",
              "11      ant_built    -0.279117 -0.068143 -0.127423    0.039923   -0.397865   \n",
              "12          price     0.396258  0.048334  0.177446    0.154196    0.335910   \n",
              "\n",
              "    condition  sqft_basement      view    floors  bathrooms  ant_renovated  \\\n",
              "0   -0.055878       0.454062  0.321671  0.332886   0.752949       0.073332   \n",
              "1   -0.032911       0.026342  0.074838  0.009614   0.102201      -0.067352   \n",
              "2    0.044796       0.343254  0.118504  0.165841   0.548973       0.067724   \n",
              "3   -0.003033       0.108951  0.339409  0.001812   0.050420      -0.011462   \n",
              "4   -0.177321      -0.039625  0.175001  0.517045   0.683782       0.126512   \n",
              "5    1.000000       0.208899  0.062522 -0.281667  -0.119459       0.212902   \n",
              "6    0.208899       1.000000  0.338433 -0.261851   0.292690      -0.064237   \n",
              "7    0.062522       0.338433  1.000000  0.030004   0.210306       0.001000   \n",
              "8   -0.281667      -0.261851  0.030004  1.000000   0.484961       0.207758   \n",
              "9   -0.119459       0.292690  0.210306  0.484961   1.000000       0.111691   \n",
              "10   0.212902      -0.064237  0.001000  0.207758   0.111691       1.000000   \n",
              "11   0.399703       0.154573  0.065968 -0.459439  -0.461579      -0.127390   \n",
              "12   0.031435       0.197667  0.225895  0.132755   0.303729       0.039901   \n",
              "\n",
              "    ant_built     price  \n",
              "0   -0.279117  0.396258  \n",
              "1   -0.068143  0.048334  \n",
              "2   -0.127423  0.177446  \n",
              "3    0.039923  0.154196  \n",
              "4   -0.397865  0.335910  \n",
              "5    0.399703  0.031435  \n",
              "6    0.154573  0.197667  \n",
              "7    0.065968  0.225895  \n",
              "8   -0.459439  0.132755  \n",
              "9   -0.461579  0.303729  \n",
              "10  -0.127390  0.039901  \n",
              "11   1.000000 -0.021407  \n",
              "12  -0.021407  1.000000  "
            ],
            "text/html": [
              "\n",
              "  <div id=\"df-3f66df1f-97dd-4e74-be34-2b7263f6284a\">\n",
              "    <div class=\"colab-df-container\">\n",
              "      <div>\n",
              "<style scoped>\n",
              "    .dataframe tbody tr th:only-of-type {\n",
              "        vertical-align: middle;\n",
              "    }\n",
              "\n",
              "    .dataframe tbody tr th {\n",
              "        vertical-align: top;\n",
              "    }\n",
              "\n",
              "    .dataframe thead th {\n",
              "        text-align: right;\n",
              "    }\n",
              "</style>\n",
              "<table border=\"1\" class=\"dataframe\">\n",
              "  <thead>\n",
              "    <tr style=\"text-align: right;\">\n",
              "      <th></th>\n",
              "      <th>index</th>\n",
              "      <th>sqft_living</th>\n",
              "      <th>sqft_lot</th>\n",
              "      <th>bedrooms</th>\n",
              "      <th>waterfront</th>\n",
              "      <th>sqft_above</th>\n",
              "      <th>condition</th>\n",
              "      <th>sqft_basement</th>\n",
              "      <th>view</th>\n",
              "      <th>floors</th>\n",
              "      <th>bathrooms</th>\n",
              "      <th>ant_renovated</th>\n",
              "      <th>ant_built</th>\n",
              "      <th>price</th>\n",
              "    </tr>\n",
              "  </thead>\n",
              "  <tbody>\n",
              "    <tr>\n",
              "      <th>0</th>\n",
              "      <td>sqft_living</td>\n",
              "      <td>1.000000</td>\n",
              "      <td>0.227602</td>\n",
              "      <td>0.588685</td>\n",
              "      <td>0.124573</td>\n",
              "      <td>0.872278</td>\n",
              "      <td>-0.055878</td>\n",
              "      <td>0.454062</td>\n",
              "      <td>0.321671</td>\n",
              "      <td>0.332886</td>\n",
              "      <td>0.752949</td>\n",
              "      <td>0.073332</td>\n",
              "      <td>-0.279117</td>\n",
              "      <td>0.396258</td>\n",
              "    </tr>\n",
              "    <tr>\n",
              "      <th>1</th>\n",
              "      <td>sqft_lot</td>\n",
              "      <td>0.227602</td>\n",
              "      <td>1.000000</td>\n",
              "      <td>0.044483</td>\n",
              "      <td>0.016466</td>\n",
              "      <td>0.240795</td>\n",
              "      <td>-0.032911</td>\n",
              "      <td>0.026342</td>\n",
              "      <td>0.074838</td>\n",
              "      <td>0.009614</td>\n",
              "      <td>0.102201</td>\n",
              "      <td>-0.067352</td>\n",
              "      <td>-0.068143</td>\n",
              "      <td>0.048334</td>\n",
              "    </tr>\n",
              "    <tr>\n",
              "      <th>2</th>\n",
              "      <td>bedrooms</td>\n",
              "      <td>0.588685</td>\n",
              "      <td>0.044483</td>\n",
              "      <td>1.000000</td>\n",
              "      <td>-0.010966</td>\n",
              "      <td>0.471809</td>\n",
              "      <td>0.044796</td>\n",
              "      <td>0.343254</td>\n",
              "      <td>0.118504</td>\n",
              "      <td>0.165841</td>\n",
              "      <td>0.548973</td>\n",
              "      <td>0.067724</td>\n",
              "      <td>-0.127423</td>\n",
              "      <td>0.177446</td>\n",
              "    </tr>\n",
              "    <tr>\n",
              "      <th>3</th>\n",
              "      <td>waterfront</td>\n",
              "      <td>0.124573</td>\n",
              "      <td>0.016466</td>\n",
              "      <td>-0.010966</td>\n",
              "      <td>1.000000</td>\n",
              "      <td>0.079909</td>\n",
              "      <td>-0.003033</td>\n",
              "      <td>0.108951</td>\n",
              "      <td>0.339409</td>\n",
              "      <td>0.001812</td>\n",
              "      <td>0.050420</td>\n",
              "      <td>-0.011462</td>\n",
              "      <td>0.039923</td>\n",
              "      <td>0.154196</td>\n",
              "    </tr>\n",
              "    <tr>\n",
              "      <th>4</th>\n",
              "      <td>sqft_above</td>\n",
              "      <td>0.872278</td>\n",
              "      <td>0.240795</td>\n",
              "      <td>0.471809</td>\n",
              "      <td>0.079909</td>\n",
              "      <td>1.000000</td>\n",
              "      <td>-0.177321</td>\n",
              "      <td>-0.039625</td>\n",
              "      <td>0.175001</td>\n",
              "      <td>0.517045</td>\n",
              "      <td>0.683782</td>\n",
              "      <td>0.126512</td>\n",
              "      <td>-0.397865</td>\n",
              "      <td>0.335910</td>\n",
              "    </tr>\n",
              "    <tr>\n",
              "      <th>5</th>\n",
              "      <td>condition</td>\n",
              "      <td>-0.055878</td>\n",
              "      <td>-0.032911</td>\n",
              "      <td>0.044796</td>\n",
              "      <td>-0.003033</td>\n",
              "      <td>-0.177321</td>\n",
              "      <td>1.000000</td>\n",
              "      <td>0.208899</td>\n",
              "      <td>0.062522</td>\n",
              "      <td>-0.281667</td>\n",
              "      <td>-0.119459</td>\n",
              "      <td>0.212902</td>\n",
              "      <td>0.399703</td>\n",
              "      <td>0.031435</td>\n",
              "    </tr>\n",
              "    <tr>\n",
              "      <th>6</th>\n",
              "      <td>sqft_basement</td>\n",
              "      <td>0.454062</td>\n",
              "      <td>0.026342</td>\n",
              "      <td>0.343254</td>\n",
              "      <td>0.108951</td>\n",
              "      <td>-0.039625</td>\n",
              "      <td>0.208899</td>\n",
              "      <td>1.000000</td>\n",
              "      <td>0.338433</td>\n",
              "      <td>-0.261851</td>\n",
              "      <td>0.292690</td>\n",
              "      <td>-0.064237</td>\n",
              "      <td>0.154573</td>\n",
              "      <td>0.197667</td>\n",
              "    </tr>\n",
              "    <tr>\n",
              "      <th>7</th>\n",
              "      <td>view</td>\n",
              "      <td>0.321671</td>\n",
              "      <td>0.074838</td>\n",
              "      <td>0.118504</td>\n",
              "      <td>0.339409</td>\n",
              "      <td>0.175001</td>\n",
              "      <td>0.062522</td>\n",
              "      <td>0.338433</td>\n",
              "      <td>1.000000</td>\n",
              "      <td>0.030004</td>\n",
              "      <td>0.210306</td>\n",
              "      <td>0.001000</td>\n",
              "      <td>0.065968</td>\n",
              "      <td>0.225895</td>\n",
              "    </tr>\n",
              "    <tr>\n",
              "      <th>8</th>\n",
              "      <td>floors</td>\n",
              "      <td>0.332886</td>\n",
              "      <td>0.009614</td>\n",
              "      <td>0.165841</td>\n",
              "      <td>0.001812</td>\n",
              "      <td>0.517045</td>\n",
              "      <td>-0.281667</td>\n",
              "      <td>-0.261851</td>\n",
              "      <td>0.030004</td>\n",
              "      <td>1.000000</td>\n",
              "      <td>0.484961</td>\n",
              "      <td>0.207758</td>\n",
              "      <td>-0.459439</td>\n",
              "      <td>0.132755</td>\n",
              "    </tr>\n",
              "    <tr>\n",
              "      <th>9</th>\n",
              "      <td>bathrooms</td>\n",
              "      <td>0.752949</td>\n",
              "      <td>0.102201</td>\n",
              "      <td>0.548973</td>\n",
              "      <td>0.050420</td>\n",
              "      <td>0.683782</td>\n",
              "      <td>-0.119459</td>\n",
              "      <td>0.292690</td>\n",
              "      <td>0.210306</td>\n",
              "      <td>0.484961</td>\n",
              "      <td>1.000000</td>\n",
              "      <td>0.111691</td>\n",
              "      <td>-0.461579</td>\n",
              "      <td>0.303729</td>\n",
              "    </tr>\n",
              "    <tr>\n",
              "      <th>10</th>\n",
              "      <td>ant_renovated</td>\n",
              "      <td>0.073332</td>\n",
              "      <td>-0.067352</td>\n",
              "      <td>0.067724</td>\n",
              "      <td>-0.011462</td>\n",
              "      <td>0.126512</td>\n",
              "      <td>0.212902</td>\n",
              "      <td>-0.064237</td>\n",
              "      <td>0.001000</td>\n",
              "      <td>0.207758</td>\n",
              "      <td>0.111691</td>\n",
              "      <td>1.000000</td>\n",
              "      <td>-0.127390</td>\n",
              "      <td>0.039901</td>\n",
              "    </tr>\n",
              "    <tr>\n",
              "      <th>11</th>\n",
              "      <td>ant_built</td>\n",
              "      <td>-0.279117</td>\n",
              "      <td>-0.068143</td>\n",
              "      <td>-0.127423</td>\n",
              "      <td>0.039923</td>\n",
              "      <td>-0.397865</td>\n",
              "      <td>0.399703</td>\n",
              "      <td>0.154573</td>\n",
              "      <td>0.065968</td>\n",
              "      <td>-0.459439</td>\n",
              "      <td>-0.461579</td>\n",
              "      <td>-0.127390</td>\n",
              "      <td>1.000000</td>\n",
              "      <td>-0.021407</td>\n",
              "    </tr>\n",
              "    <tr>\n",
              "      <th>12</th>\n",
              "      <td>price</td>\n",
              "      <td>0.396258</td>\n",
              "      <td>0.048334</td>\n",
              "      <td>0.177446</td>\n",
              "      <td>0.154196</td>\n",
              "      <td>0.335910</td>\n",
              "      <td>0.031435</td>\n",
              "      <td>0.197667</td>\n",
              "      <td>0.225895</td>\n",
              "      <td>0.132755</td>\n",
              "      <td>0.303729</td>\n",
              "      <td>0.039901</td>\n",
              "      <td>-0.021407</td>\n",
              "      <td>1.000000</td>\n",
              "    </tr>\n",
              "  </tbody>\n",
              "</table>\n",
              "</div>\n",
              "      <button class=\"colab-df-convert\" onclick=\"convertToInteractive('df-3f66df1f-97dd-4e74-be34-2b7263f6284a')\"\n",
              "              title=\"Convert this dataframe to an interactive table.\"\n",
              "              style=\"display:none;\">\n",
              "        \n",
              "  <svg xmlns=\"http://www.w3.org/2000/svg\" height=\"24px\"viewBox=\"0 0 24 24\"\n",
              "       width=\"24px\">\n",
              "    <path d=\"M0 0h24v24H0V0z\" fill=\"none\"/>\n",
              "    <path d=\"M18.56 5.44l.94 2.06.94-2.06 2.06-.94-2.06-.94-.94-2.06-.94 2.06-2.06.94zm-11 1L8.5 8.5l.94-2.06 2.06-.94-2.06-.94L8.5 2.5l-.94 2.06-2.06.94zm10 10l.94 2.06.94-2.06 2.06-.94-2.06-.94-.94-2.06-.94 2.06-2.06.94z\"/><path d=\"M17.41 7.96l-1.37-1.37c-.4-.4-.92-.59-1.43-.59-.52 0-1.04.2-1.43.59L10.3 9.45l-7.72 7.72c-.78.78-.78 2.05 0 2.83L4 21.41c.39.39.9.59 1.41.59.51 0 1.02-.2 1.41-.59l7.78-7.78 2.81-2.81c.8-.78.8-2.07 0-2.86zM5.41 20L4 18.59l7.72-7.72 1.47 1.35L5.41 20z\"/>\n",
              "  </svg>\n",
              "      </button>\n",
              "      \n",
              "  <style>\n",
              "    .colab-df-container {\n",
              "      display:flex;\n",
              "      flex-wrap:wrap;\n",
              "      gap: 12px;\n",
              "    }\n",
              "\n",
              "    .colab-df-convert {\n",
              "      background-color: #E8F0FE;\n",
              "      border: none;\n",
              "      border-radius: 50%;\n",
              "      cursor: pointer;\n",
              "      display: none;\n",
              "      fill: #1967D2;\n",
              "      height: 32px;\n",
              "      padding: 0 0 0 0;\n",
              "      width: 32px;\n",
              "    }\n",
              "\n",
              "    .colab-df-convert:hover {\n",
              "      background-color: #E2EBFA;\n",
              "      box-shadow: 0px 1px 2px rgba(60, 64, 67, 0.3), 0px 1px 3px 1px rgba(60, 64, 67, 0.15);\n",
              "      fill: #174EA6;\n",
              "    }\n",
              "\n",
              "    [theme=dark] .colab-df-convert {\n",
              "      background-color: #3B4455;\n",
              "      fill: #D2E3FC;\n",
              "    }\n",
              "\n",
              "    [theme=dark] .colab-df-convert:hover {\n",
              "      background-color: #434B5C;\n",
              "      box-shadow: 0px 1px 3px 1px rgba(0, 0, 0, 0.15);\n",
              "      filter: drop-shadow(0px 1px 2px rgba(0, 0, 0, 0.3));\n",
              "      fill: #FFFFFF;\n",
              "    }\n",
              "  </style>\n",
              "\n",
              "      <script>\n",
              "        const buttonEl =\n",
              "          document.querySelector('#df-3f66df1f-97dd-4e74-be34-2b7263f6284a button.colab-df-convert');\n",
              "        buttonEl.style.display =\n",
              "          google.colab.kernel.accessAllowed ? 'block' : 'none';\n",
              "\n",
              "        async function convertToInteractive(key) {\n",
              "          const element = document.querySelector('#df-3f66df1f-97dd-4e74-be34-2b7263f6284a');\n",
              "          const dataTable =\n",
              "            await google.colab.kernel.invokeFunction('convertToInteractive',\n",
              "                                                     [key], {});\n",
              "          if (!dataTable) return;\n",
              "\n",
              "          const docLinkHtml = 'Like what you see? Visit the ' +\n",
              "            '<a target=\"_blank\" href=https://colab.research.google.com/notebooks/data_table.ipynb>data table notebook</a>'\n",
              "            + ' to learn more about interactive tables.';\n",
              "          element.innerHTML = '';\n",
              "          dataTable['output_type'] = 'display_data';\n",
              "          await google.colab.output.renderOutput(dataTable, element);\n",
              "          const docLink = document.createElement('div');\n",
              "          docLink.innerHTML = docLinkHtml;\n",
              "          element.appendChild(docLink);\n",
              "        }\n",
              "      </script>\n",
              "    </div>\n",
              "  </div>\n",
              "  "
            ]
          },
          "metadata": {},
          "execution_count": 49
        }
      ]
    },
    {
      "cell_type": "code",
      "source": [
        "corr_matrix = train.corr()\n",
        "corr_matrix.reset_index(inplace = True)\n",
        "corr_matrix.rename(columns = {'index': 'feature', target: 'correl'}, inplace = True)\n",
        "corr_matrix = corr_matrix[['feature', 'correl']]\n",
        "\n",
        "corr_matrix.head()\n"
      ],
      "metadata": {
        "id": "pyA3oZaTgPzR",
        "outputId": "cd2850ba-0378-4cd0-fe09-9d07011d4cdf",
        "colab": {
          "base_uri": "https://localhost:8080/",
          "height": 206
        }
      },
      "execution_count": null,
      "outputs": [
        {
          "output_type": "execute_result",
          "data": {
            "text/plain": [
              "       feature    correl\n",
              "0  sqft_living  0.396258\n",
              "1     sqft_lot  0.048334\n",
              "2     bedrooms  0.177446\n",
              "3   waterfront  0.154196\n",
              "4   sqft_above  0.335910"
            ],
            "text/html": [
              "\n",
              "  <div id=\"df-2d31abe9-6530-4c5b-919b-901d0decc168\">\n",
              "    <div class=\"colab-df-container\">\n",
              "      <div>\n",
              "<style scoped>\n",
              "    .dataframe tbody tr th:only-of-type {\n",
              "        vertical-align: middle;\n",
              "    }\n",
              "\n",
              "    .dataframe tbody tr th {\n",
              "        vertical-align: top;\n",
              "    }\n",
              "\n",
              "    .dataframe thead th {\n",
              "        text-align: right;\n",
              "    }\n",
              "</style>\n",
              "<table border=\"1\" class=\"dataframe\">\n",
              "  <thead>\n",
              "    <tr style=\"text-align: right;\">\n",
              "      <th></th>\n",
              "      <th>feature</th>\n",
              "      <th>correl</th>\n",
              "    </tr>\n",
              "  </thead>\n",
              "  <tbody>\n",
              "    <tr>\n",
              "      <th>0</th>\n",
              "      <td>sqft_living</td>\n",
              "      <td>0.396258</td>\n",
              "    </tr>\n",
              "    <tr>\n",
              "      <th>1</th>\n",
              "      <td>sqft_lot</td>\n",
              "      <td>0.048334</td>\n",
              "    </tr>\n",
              "    <tr>\n",
              "      <th>2</th>\n",
              "      <td>bedrooms</td>\n",
              "      <td>0.177446</td>\n",
              "    </tr>\n",
              "    <tr>\n",
              "      <th>3</th>\n",
              "      <td>waterfront</td>\n",
              "      <td>0.154196</td>\n",
              "    </tr>\n",
              "    <tr>\n",
              "      <th>4</th>\n",
              "      <td>sqft_above</td>\n",
              "      <td>0.335910</td>\n",
              "    </tr>\n",
              "  </tbody>\n",
              "</table>\n",
              "</div>\n",
              "      <button class=\"colab-df-convert\" onclick=\"convertToInteractive('df-2d31abe9-6530-4c5b-919b-901d0decc168')\"\n",
              "              title=\"Convert this dataframe to an interactive table.\"\n",
              "              style=\"display:none;\">\n",
              "        \n",
              "  <svg xmlns=\"http://www.w3.org/2000/svg\" height=\"24px\"viewBox=\"0 0 24 24\"\n",
              "       width=\"24px\">\n",
              "    <path d=\"M0 0h24v24H0V0z\" fill=\"none\"/>\n",
              "    <path d=\"M18.56 5.44l.94 2.06.94-2.06 2.06-.94-2.06-.94-.94-2.06-.94 2.06-2.06.94zm-11 1L8.5 8.5l.94-2.06 2.06-.94-2.06-.94L8.5 2.5l-.94 2.06-2.06.94zm10 10l.94 2.06.94-2.06 2.06-.94-2.06-.94-.94-2.06-.94 2.06-2.06.94z\"/><path d=\"M17.41 7.96l-1.37-1.37c-.4-.4-.92-.59-1.43-.59-.52 0-1.04.2-1.43.59L10.3 9.45l-7.72 7.72c-.78.78-.78 2.05 0 2.83L4 21.41c.39.39.9.59 1.41.59.51 0 1.02-.2 1.41-.59l7.78-7.78 2.81-2.81c.8-.78.8-2.07 0-2.86zM5.41 20L4 18.59l7.72-7.72 1.47 1.35L5.41 20z\"/>\n",
              "  </svg>\n",
              "      </button>\n",
              "      \n",
              "  <style>\n",
              "    .colab-df-container {\n",
              "      display:flex;\n",
              "      flex-wrap:wrap;\n",
              "      gap: 12px;\n",
              "    }\n",
              "\n",
              "    .colab-df-convert {\n",
              "      background-color: #E8F0FE;\n",
              "      border: none;\n",
              "      border-radius: 50%;\n",
              "      cursor: pointer;\n",
              "      display: none;\n",
              "      fill: #1967D2;\n",
              "      height: 32px;\n",
              "      padding: 0 0 0 0;\n",
              "      width: 32px;\n",
              "    }\n",
              "\n",
              "    .colab-df-convert:hover {\n",
              "      background-color: #E2EBFA;\n",
              "      box-shadow: 0px 1px 2px rgba(60, 64, 67, 0.3), 0px 1px 3px 1px rgba(60, 64, 67, 0.15);\n",
              "      fill: #174EA6;\n",
              "    }\n",
              "\n",
              "    [theme=dark] .colab-df-convert {\n",
              "      background-color: #3B4455;\n",
              "      fill: #D2E3FC;\n",
              "    }\n",
              "\n",
              "    [theme=dark] .colab-df-convert:hover {\n",
              "      background-color: #434B5C;\n",
              "      box-shadow: 0px 1px 3px 1px rgba(0, 0, 0, 0.15);\n",
              "      filter: drop-shadow(0px 1px 2px rgba(0, 0, 0, 0.3));\n",
              "      fill: #FFFFFF;\n",
              "    }\n",
              "  </style>\n",
              "\n",
              "      <script>\n",
              "        const buttonEl =\n",
              "          document.querySelector('#df-2d31abe9-6530-4c5b-919b-901d0decc168 button.colab-df-convert');\n",
              "        buttonEl.style.display =\n",
              "          google.colab.kernel.accessAllowed ? 'block' : 'none';\n",
              "\n",
              "        async function convertToInteractive(key) {\n",
              "          const element = document.querySelector('#df-2d31abe9-6530-4c5b-919b-901d0decc168');\n",
              "          const dataTable =\n",
              "            await google.colab.kernel.invokeFunction('convertToInteractive',\n",
              "                                                     [key], {});\n",
              "          if (!dataTable) return;\n",
              "\n",
              "          const docLinkHtml = 'Like what you see? Visit the ' +\n",
              "            '<a target=\"_blank\" href=https://colab.research.google.com/notebooks/data_table.ipynb>data table notebook</a>'\n",
              "            + ' to learn more about interactive tables.';\n",
              "          element.innerHTML = '';\n",
              "          dataTable['output_type'] = 'display_data';\n",
              "          await google.colab.output.renderOutput(dataTable, element);\n",
              "          const docLink = document.createElement('div');\n",
              "          docLink.innerHTML = docLinkHtml;\n",
              "          element.appendChild(docLink);\n",
              "        }\n",
              "      </script>\n",
              "    </div>\n",
              "  </div>\n",
              "  "
            ]
          },
          "metadata": {},
          "execution_count": 50
        }
      ]
    },
    {
      "cell_type": "code",
      "source": [
        "# Creando métricas de las variables\n",
        "\n",
        "univariate = train.describe().transpose()\n",
        "univariate.reset_index(inplace = True)\n",
        "univariate.rename(columns = {'index':'feature',\n",
        "                             '25%': 'Q1',\n",
        "                             '50%': 'median',\n",
        "                             '75%': 'Q3'}, inplace = True)\n",
        "\n",
        "univariate[['missing_rate']] = 1 - univariate[['count']]/train.shape[0]\n",
        "univariate.sort_values(by = 'missing_rate', ascending = False, inplace = True)"
      ],
      "metadata": {
        "id": "3NYvEVjc7F3O"
      },
      "execution_count": null,
      "outputs": []
    },
    {
      "cell_type": "code",
      "source": [
        "#matriz de correlaciones\n",
        "corr_matrix = train.corr()\n",
        "corr_matrix.reset_index(inplace = True)\n",
        "corr_matrix.rename(columns = {'index': 'feature', target: 'correl'}, inplace = True)\n",
        "\n",
        "#Cruce\n",
        "univariate_II = pd.merge(univariate, corr_matrix[['feature', 'correl']], on = 'feature', how = 'left') \n",
        "univariate_II['correl_abs'] = univariate_II.correl.apply(lambda x: abs(x))\n",
        "univariate_II.sort_values(by = 'correl_abs', ascending = False, inplace = True)\n",
        "univariate_II.head(10)"
      ],
      "metadata": {
        "colab": {
          "base_uri": "https://localhost:8080/",
          "height": 363
        },
        "id": "WV3dz8j-90e0",
        "outputId": "e93d4ea5-d5c9-4788-8a0f-a59c58fd7795"
      },
      "execution_count": null,
      "outputs": [
        {
          "output_type": "execute_result",
          "data": {
            "text/plain": [
              "          feature   count           mean            std      min         Q1  \\\n",
              "12          price  3185.0  559046.654641  627775.352934  80000.0  329350.00   \n",
              "1     sqft_living  3185.0    2134.329356     951.982266    370.0    1470.00   \n",
              "5      sqft_above  3185.0    1819.907064     848.854618    370.0    1200.00   \n",
              "10      bathrooms  3185.0       2.163658       0.774415      0.0       1.75   \n",
              "8            view  3185.0       0.236735       0.766261      0.0       0.00   \n",
              "7   sqft_basement  3185.0     314.422292     465.894731      0.0       0.00   \n",
              "3        bedrooms  3185.0       3.407535       0.905216      0.0       3.00   \n",
              "4      waterfront  3185.0       0.006593       0.080944      0.0       0.00   \n",
              "9          floors  3185.0       1.511774       0.541265      1.0       1.00   \n",
              "2        sqft_lot  3185.0   14883.002512   33628.812210    746.0    5002.00   \n",
              "\n",
              "       median        Q3         max  missing_rate    correl  correl_abs  \n",
              "12  465000.00  650000.0  26590000.0           0.0  1.000000    1.000000  \n",
              "1     1980.00    2600.0     13540.0           0.0  0.396258    0.396258  \n",
              "5     1590.00    2290.0      9410.0           0.0  0.335910    0.335910  \n",
              "10       2.25       2.5         8.0           0.0  0.303729    0.303729  \n",
              "8        0.00       0.0         4.0           0.0  0.225895    0.225895  \n",
              "7        0.00     620.0      4820.0           0.0  0.197667    0.197667  \n",
              "3        3.00       4.0         9.0           0.0  0.177446    0.177446  \n",
              "4        0.00       0.0         1.0           0.0  0.154196    0.154196  \n",
              "9        1.50       2.0         3.5           0.0  0.132755    0.132755  \n",
              "2     7715.00   10962.0    641203.0           0.0  0.048334    0.048334  "
            ],
            "text/html": [
              "\n",
              "  <div id=\"df-10416020-d3ec-4ea5-a279-377f3bdbbea0\">\n",
              "    <div class=\"colab-df-container\">\n",
              "      <div>\n",
              "<style scoped>\n",
              "    .dataframe tbody tr th:only-of-type {\n",
              "        vertical-align: middle;\n",
              "    }\n",
              "\n",
              "    .dataframe tbody tr th {\n",
              "        vertical-align: top;\n",
              "    }\n",
              "\n",
              "    .dataframe thead th {\n",
              "        text-align: right;\n",
              "    }\n",
              "</style>\n",
              "<table border=\"1\" class=\"dataframe\">\n",
              "  <thead>\n",
              "    <tr style=\"text-align: right;\">\n",
              "      <th></th>\n",
              "      <th>feature</th>\n",
              "      <th>count</th>\n",
              "      <th>mean</th>\n",
              "      <th>std</th>\n",
              "      <th>min</th>\n",
              "      <th>Q1</th>\n",
              "      <th>median</th>\n",
              "      <th>Q3</th>\n",
              "      <th>max</th>\n",
              "      <th>missing_rate</th>\n",
              "      <th>correl</th>\n",
              "      <th>correl_abs</th>\n",
              "    </tr>\n",
              "  </thead>\n",
              "  <tbody>\n",
              "    <tr>\n",
              "      <th>12</th>\n",
              "      <td>price</td>\n",
              "      <td>3185.0</td>\n",
              "      <td>559046.654641</td>\n",
              "      <td>627775.352934</td>\n",
              "      <td>80000.0</td>\n",
              "      <td>329350.00</td>\n",
              "      <td>465000.00</td>\n",
              "      <td>650000.0</td>\n",
              "      <td>26590000.0</td>\n",
              "      <td>0.0</td>\n",
              "      <td>1.000000</td>\n",
              "      <td>1.000000</td>\n",
              "    </tr>\n",
              "    <tr>\n",
              "      <th>1</th>\n",
              "      <td>sqft_living</td>\n",
              "      <td>3185.0</td>\n",
              "      <td>2134.329356</td>\n",
              "      <td>951.982266</td>\n",
              "      <td>370.0</td>\n",
              "      <td>1470.00</td>\n",
              "      <td>1980.00</td>\n",
              "      <td>2600.0</td>\n",
              "      <td>13540.0</td>\n",
              "      <td>0.0</td>\n",
              "      <td>0.396258</td>\n",
              "      <td>0.396258</td>\n",
              "    </tr>\n",
              "    <tr>\n",
              "      <th>5</th>\n",
              "      <td>sqft_above</td>\n",
              "      <td>3185.0</td>\n",
              "      <td>1819.907064</td>\n",
              "      <td>848.854618</td>\n",
              "      <td>370.0</td>\n",
              "      <td>1200.00</td>\n",
              "      <td>1590.00</td>\n",
              "      <td>2290.0</td>\n",
              "      <td>9410.0</td>\n",
              "      <td>0.0</td>\n",
              "      <td>0.335910</td>\n",
              "      <td>0.335910</td>\n",
              "    </tr>\n",
              "    <tr>\n",
              "      <th>10</th>\n",
              "      <td>bathrooms</td>\n",
              "      <td>3185.0</td>\n",
              "      <td>2.163658</td>\n",
              "      <td>0.774415</td>\n",
              "      <td>0.0</td>\n",
              "      <td>1.75</td>\n",
              "      <td>2.25</td>\n",
              "      <td>2.5</td>\n",
              "      <td>8.0</td>\n",
              "      <td>0.0</td>\n",
              "      <td>0.303729</td>\n",
              "      <td>0.303729</td>\n",
              "    </tr>\n",
              "    <tr>\n",
              "      <th>8</th>\n",
              "      <td>view</td>\n",
              "      <td>3185.0</td>\n",
              "      <td>0.236735</td>\n",
              "      <td>0.766261</td>\n",
              "      <td>0.0</td>\n",
              "      <td>0.00</td>\n",
              "      <td>0.00</td>\n",
              "      <td>0.0</td>\n",
              "      <td>4.0</td>\n",
              "      <td>0.0</td>\n",
              "      <td>0.225895</td>\n",
              "      <td>0.225895</td>\n",
              "    </tr>\n",
              "    <tr>\n",
              "      <th>7</th>\n",
              "      <td>sqft_basement</td>\n",
              "      <td>3185.0</td>\n",
              "      <td>314.422292</td>\n",
              "      <td>465.894731</td>\n",
              "      <td>0.0</td>\n",
              "      <td>0.00</td>\n",
              "      <td>0.00</td>\n",
              "      <td>620.0</td>\n",
              "      <td>4820.0</td>\n",
              "      <td>0.0</td>\n",
              "      <td>0.197667</td>\n",
              "      <td>0.197667</td>\n",
              "    </tr>\n",
              "    <tr>\n",
              "      <th>3</th>\n",
              "      <td>bedrooms</td>\n",
              "      <td>3185.0</td>\n",
              "      <td>3.407535</td>\n",
              "      <td>0.905216</td>\n",
              "      <td>0.0</td>\n",
              "      <td>3.00</td>\n",
              "      <td>3.00</td>\n",
              "      <td>4.0</td>\n",
              "      <td>9.0</td>\n",
              "      <td>0.0</td>\n",
              "      <td>0.177446</td>\n",
              "      <td>0.177446</td>\n",
              "    </tr>\n",
              "    <tr>\n",
              "      <th>4</th>\n",
              "      <td>waterfront</td>\n",
              "      <td>3185.0</td>\n",
              "      <td>0.006593</td>\n",
              "      <td>0.080944</td>\n",
              "      <td>0.0</td>\n",
              "      <td>0.00</td>\n",
              "      <td>0.00</td>\n",
              "      <td>0.0</td>\n",
              "      <td>1.0</td>\n",
              "      <td>0.0</td>\n",
              "      <td>0.154196</td>\n",
              "      <td>0.154196</td>\n",
              "    </tr>\n",
              "    <tr>\n",
              "      <th>9</th>\n",
              "      <td>floors</td>\n",
              "      <td>3185.0</td>\n",
              "      <td>1.511774</td>\n",
              "      <td>0.541265</td>\n",
              "      <td>1.0</td>\n",
              "      <td>1.00</td>\n",
              "      <td>1.50</td>\n",
              "      <td>2.0</td>\n",
              "      <td>3.5</td>\n",
              "      <td>0.0</td>\n",
              "      <td>0.132755</td>\n",
              "      <td>0.132755</td>\n",
              "    </tr>\n",
              "    <tr>\n",
              "      <th>2</th>\n",
              "      <td>sqft_lot</td>\n",
              "      <td>3185.0</td>\n",
              "      <td>14883.002512</td>\n",
              "      <td>33628.812210</td>\n",
              "      <td>746.0</td>\n",
              "      <td>5002.00</td>\n",
              "      <td>7715.00</td>\n",
              "      <td>10962.0</td>\n",
              "      <td>641203.0</td>\n",
              "      <td>0.0</td>\n",
              "      <td>0.048334</td>\n",
              "      <td>0.048334</td>\n",
              "    </tr>\n",
              "  </tbody>\n",
              "</table>\n",
              "</div>\n",
              "      <button class=\"colab-df-convert\" onclick=\"convertToInteractive('df-10416020-d3ec-4ea5-a279-377f3bdbbea0')\"\n",
              "              title=\"Convert this dataframe to an interactive table.\"\n",
              "              style=\"display:none;\">\n",
              "        \n",
              "  <svg xmlns=\"http://www.w3.org/2000/svg\" height=\"24px\"viewBox=\"0 0 24 24\"\n",
              "       width=\"24px\">\n",
              "    <path d=\"M0 0h24v24H0V0z\" fill=\"none\"/>\n",
              "    <path d=\"M18.56 5.44l.94 2.06.94-2.06 2.06-.94-2.06-.94-.94-2.06-.94 2.06-2.06.94zm-11 1L8.5 8.5l.94-2.06 2.06-.94-2.06-.94L8.5 2.5l-.94 2.06-2.06.94zm10 10l.94 2.06.94-2.06 2.06-.94-2.06-.94-.94-2.06-.94 2.06-2.06.94z\"/><path d=\"M17.41 7.96l-1.37-1.37c-.4-.4-.92-.59-1.43-.59-.52 0-1.04.2-1.43.59L10.3 9.45l-7.72 7.72c-.78.78-.78 2.05 0 2.83L4 21.41c.39.39.9.59 1.41.59.51 0 1.02-.2 1.41-.59l7.78-7.78 2.81-2.81c.8-.78.8-2.07 0-2.86zM5.41 20L4 18.59l7.72-7.72 1.47 1.35L5.41 20z\"/>\n",
              "  </svg>\n",
              "      </button>\n",
              "      \n",
              "  <style>\n",
              "    .colab-df-container {\n",
              "      display:flex;\n",
              "      flex-wrap:wrap;\n",
              "      gap: 12px;\n",
              "    }\n",
              "\n",
              "    .colab-df-convert {\n",
              "      background-color: #E8F0FE;\n",
              "      border: none;\n",
              "      border-radius: 50%;\n",
              "      cursor: pointer;\n",
              "      display: none;\n",
              "      fill: #1967D2;\n",
              "      height: 32px;\n",
              "      padding: 0 0 0 0;\n",
              "      width: 32px;\n",
              "    }\n",
              "\n",
              "    .colab-df-convert:hover {\n",
              "      background-color: #E2EBFA;\n",
              "      box-shadow: 0px 1px 2px rgba(60, 64, 67, 0.3), 0px 1px 3px 1px rgba(60, 64, 67, 0.15);\n",
              "      fill: #174EA6;\n",
              "    }\n",
              "\n",
              "    [theme=dark] .colab-df-convert {\n",
              "      background-color: #3B4455;\n",
              "      fill: #D2E3FC;\n",
              "    }\n",
              "\n",
              "    [theme=dark] .colab-df-convert:hover {\n",
              "      background-color: #434B5C;\n",
              "      box-shadow: 0px 1px 3px 1px rgba(0, 0, 0, 0.15);\n",
              "      filter: drop-shadow(0px 1px 2px rgba(0, 0, 0, 0.3));\n",
              "      fill: #FFFFFF;\n",
              "    }\n",
              "  </style>\n",
              "\n",
              "      <script>\n",
              "        const buttonEl =\n",
              "          document.querySelector('#df-10416020-d3ec-4ea5-a279-377f3bdbbea0 button.colab-df-convert');\n",
              "        buttonEl.style.display =\n",
              "          google.colab.kernel.accessAllowed ? 'block' : 'none';\n",
              "\n",
              "        async function convertToInteractive(key) {\n",
              "          const element = document.querySelector('#df-10416020-d3ec-4ea5-a279-377f3bdbbea0');\n",
              "          const dataTable =\n",
              "            await google.colab.kernel.invokeFunction('convertToInteractive',\n",
              "                                                     [key], {});\n",
              "          if (!dataTable) return;\n",
              "\n",
              "          const docLinkHtml = 'Like what you see? Visit the ' +\n",
              "            '<a target=\"_blank\" href=https://colab.research.google.com/notebooks/data_table.ipynb>data table notebook</a>'\n",
              "            + ' to learn more about interactive tables.';\n",
              "          element.innerHTML = '';\n",
              "          dataTable['output_type'] = 'display_data';\n",
              "          await google.colab.output.renderOutput(dataTable, element);\n",
              "          const docLink = document.createElement('div');\n",
              "          docLink.innerHTML = docLinkHtml;\n",
              "          element.appendChild(docLink);\n",
              "        }\n",
              "      </script>\n",
              "    </div>\n",
              "  </div>\n",
              "  "
            ]
          },
          "metadata": {},
          "execution_count": 52
        }
      ]
    },
    {
      "cell_type": "code",
      "source": [
        "sns.regplot(x = 'sqft_living', y = 'price', data = train.loc[train.price<5000000])"
      ],
      "metadata": {
        "id": "Y5pVeyNWl1Jo",
        "outputId": "10024d8d-062a-4604-b424-697693360a4c",
        "colab": {
          "base_uri": "https://localhost:8080/",
          "height": 308
        }
      },
      "execution_count": null,
      "outputs": [
        {
          "output_type": "execute_result",
          "data": {
            "text/plain": [
              "<AxesSubplot:xlabel='sqft_living', ylabel='price'>"
            ]
          },
          "metadata": {},
          "execution_count": 53
        },
        {
          "output_type": "display_data",
          "data": {
            "text/plain": [
              "<Figure size 432x288 with 1 Axes>"
            ],
            "image/png": "[encoded data removed]"
          },
          "metadata": {
            "needs_background": "light"
          }
        }
      ]
    },
    {
      "cell_type": "markdown",
      "source": [
        "### <b>Pre-selección de variables:</b>\n",
        "En muchos casos, la cantidad de variables que tendremos que evaluar será tanta que deberemos filtrar aquellas que identiquemos con menor potencial para predecir nuestro target.\n",
        "Algunos criterios que podemos tomar, son umbrales de correlación y missing rate.\n",
        "\n",
        "--- \n",
        "\n",
        "Ejemplo:\n",
        "\n",
        "*   Aquellas variables con correlación  < 0.1 se van\n",
        "*   Aquellas variables con missing rate > 0.9 se van\n"
      ],
      "metadata": {
        "id": "csMMETMASr36"
      }
    },
    {
      "cell_type": "code",
      "source": [
        "feature_prefilter = list(set(univariate_II.loc[univariate_II.correl_abs >= 0.1].loc[univariate_II.missing_rate <= 0.9].feature.tolist()) - set([target])) \n"
      ],
      "metadata": {
        "id": "zsmIJEoz9aUI"
      },
      "execution_count": null,
      "outputs": []
    },
    {
      "cell_type": "code",
      "source": [
        "print(f'Cantidad de variables iniciales: {univariate_II.shape[0]}')\n",
        "print(f'Cantidad de variables luego de pre-seleccion: {len(feature_prefilter)}')\n"
      ],
      "metadata": {
        "id": "LkOfhyk0nxQm",
        "outputId": "3c56d776-b817-497c-9cc2-2a324e5e048c",
        "colab": {
          "base_uri": "https://localhost:8080/"
        }
      },
      "execution_count": null,
      "outputs": [
        {
          "output_type": "stream",
          "name": "stdout",
          "text": [
            "Cantidad de variables iniciales: 13\n",
            "Cantidad de variables luego de pre-seleccion: 8\n"
          ]
        }
      ]
    },
    {
      "cell_type": "markdown",
      "source": [
        "## Analizando el target"
      ],
      "metadata": {
        "id": "vxNVWNw6W4CY"
      }
    },
    {
      "cell_type": "code",
      "source": [
        "pddf[['price']].describe().transpose()"
      ],
      "metadata": {
        "id": "_00HaG-aMjFp",
        "outputId": "9afd320c-2a30-424c-967f-754093f4a7da",
        "colab": {
          "base_uri": "https://localhost:8080/",
          "height": 81
        }
      },
      "execution_count": null,
      "outputs": [
        {
          "output_type": "execute_result",
          "data": {
            "text/plain": [
              "        count           mean            std      min            25%       50%  \\\n",
              "price  4550.0  558026.801533  563932.859964  80000.0  326446.428572  465000.0   \n",
              "\n",
              "            75%         max  \n",
              "price  657500.0  26590000.0  "
            ],
            "text/html": [
              "\n",
              "  <div id=\"df-a1dc1676-959a-43fd-9fa7-4641c1940692\">\n",
              "    <div class=\"colab-df-container\">\n",
              "      <div>\n",
              "<style scoped>\n",
              "    .dataframe tbody tr th:only-of-type {\n",
              "        vertical-align: middle;\n",
              "    }\n",
              "\n",
              "    .dataframe tbody tr th {\n",
              "        vertical-align: top;\n",
              "    }\n",
              "\n",
              "    .dataframe thead th {\n",
              "        text-align: right;\n",
              "    }\n",
              "</style>\n",
              "<table border=\"1\" class=\"dataframe\">\n",
              "  <thead>\n",
              "    <tr style=\"text-align: right;\">\n",
              "      <th></th>\n",
              "      <th>count</th>\n",
              "      <th>mean</th>\n",
              "      <th>std</th>\n",
              "      <th>min</th>\n",
              "      <th>25%</th>\n",
              "      <th>50%</th>\n",
              "      <th>75%</th>\n",
              "      <th>max</th>\n",
              "    </tr>\n",
              "  </thead>\n",
              "  <tbody>\n",
              "    <tr>\n",
              "      <th>price</th>\n",
              "      <td>4550.0</td>\n",
              "      <td>558026.801533</td>\n",
              "      <td>563932.859964</td>\n",
              "      <td>80000.0</td>\n",
              "      <td>326446.428572</td>\n",
              "      <td>465000.0</td>\n",
              "      <td>657500.0</td>\n",
              "      <td>26590000.0</td>\n",
              "    </tr>\n",
              "  </tbody>\n",
              "</table>\n",
              "</div>\n",
              "      <button class=\"colab-df-convert\" onclick=\"convertToInteractive('df-a1dc1676-959a-43fd-9fa7-4641c1940692')\"\n",
              "              title=\"Convert this dataframe to an interactive table.\"\n",
              "              style=\"display:none;\">\n",
              "        \n",
              "  <svg xmlns=\"http://www.w3.org/2000/svg\" height=\"24px\"viewBox=\"0 0 24 24\"\n",
              "       width=\"24px\">\n",
              "    <path d=\"M0 0h24v24H0V0z\" fill=\"none\"/>\n",
              "    <path d=\"M18.56 5.44l.94 2.06.94-2.06 2.06-.94-2.06-.94-.94-2.06-.94 2.06-2.06.94zm-11 1L8.5 8.5l.94-2.06 2.06-.94-2.06-.94L8.5 2.5l-.94 2.06-2.06.94zm10 10l.94 2.06.94-2.06 2.06-.94-2.06-.94-.94-2.06-.94 2.06-2.06.94z\"/><path d=\"M17.41 7.96l-1.37-1.37c-.4-.4-.92-.59-1.43-.59-.52 0-1.04.2-1.43.59L10.3 9.45l-7.72 7.72c-.78.78-.78 2.05 0 2.83L4 21.41c.39.39.9.59 1.41.59.51 0 1.02-.2 1.41-.59l7.78-7.78 2.81-2.81c.8-.78.8-2.07 0-2.86zM5.41 20L4 18.59l7.72-7.72 1.47 1.35L5.41 20z\"/>\n",
              "  </svg>\n",
              "      </button>\n",
              "      \n",
              "  <style>\n",
              "    .colab-df-container {\n",
              "      display:flex;\n",
              "      flex-wrap:wrap;\n",
              "      gap: 12px;\n",
              "    }\n",
              "\n",
              "    .colab-df-convert {\n",
              "      background-color: #E8F0FE;\n",
              "      border: none;\n",
              "      border-radius: 50%;\n",
              "      cursor: pointer;\n",
              "      display: none;\n",
              "      fill: #1967D2;\n",
              "      height: 32px;\n",
              "      padding: 0 0 0 0;\n",
              "      width: 32px;\n",
              "    }\n",
              "\n",
              "    .colab-df-convert:hover {\n",
              "      background-color: #E2EBFA;\n",
              "      box-shadow: 0px 1px 2px rgba(60, 64, 67, 0.3), 0px 1px 3px 1px rgba(60, 64, 67, 0.15);\n",
              "      fill: #174EA6;\n",
              "    }\n",
              "\n",
              "    [theme=dark] .colab-df-convert {\n",
              "      background-color: #3B4455;\n",
              "      fill: #D2E3FC;\n",
              "    }\n",
              "\n",
              "    [theme=dark] .colab-df-convert:hover {\n",
              "      background-color: #434B5C;\n",
              "      box-shadow: 0px 1px 3px 1px rgba(0, 0, 0, 0.15);\n",
              "      filter: drop-shadow(0px 1px 2px rgba(0, 0, 0, 0.3));\n",
              "      fill: #FFFFFF;\n",
              "    }\n",
              "  </style>\n",
              "\n",
              "      <script>\n",
              "        const buttonEl =\n",
              "          document.querySelector('#df-a1dc1676-959a-43fd-9fa7-4641c1940692 button.colab-df-convert');\n",
              "        buttonEl.style.display =\n",
              "          google.colab.kernel.accessAllowed ? 'block' : 'none';\n",
              "\n",
              "        async function convertToInteractive(key) {\n",
              "          const element = document.querySelector('#df-a1dc1676-959a-43fd-9fa7-4641c1940692');\n",
              "          const dataTable =\n",
              "            await google.colab.kernel.invokeFunction('convertToInteractive',\n",
              "                                                     [key], {});\n",
              "          if (!dataTable) return;\n",
              "\n",
              "          const docLinkHtml = 'Like what you see? Visit the ' +\n",
              "            '<a target=\"_blank\" href=https://colab.research.google.com/notebooks/data_table.ipynb>data table notebook</a>'\n",
              "            + ' to learn more about interactive tables.';\n",
              "          element.innerHTML = '';\n",
              "          dataTable['output_type'] = 'display_data';\n",
              "          await google.colab.output.renderOutput(dataTable, element);\n",
              "          const docLink = document.createElement('div');\n",
              "          docLink.innerHTML = docLinkHtml;\n",
              "          element.appendChild(docLink);\n",
              "        }\n",
              "      </script>\n",
              "    </div>\n",
              "  </div>\n",
              "  "
            ]
          },
          "metadata": {},
          "execution_count": 60
        }
      ]
    },
    {
      "cell_type": "code",
      "source": [
        "# Gráfico de distribución \n",
        "sns.displot(pddf.price, kind=\"kde\", fill=True)"
      ],
      "metadata": {
        "id": "2LdWd1niTzL8",
        "colab": {
          "base_uri": "https://localhost:8080/",
          "height": 386
        },
        "outputId": "f02456d0-2c5a-4a1b-b001-e10f2ec111b4"
      },
      "execution_count": null,
      "outputs": [
        {
          "output_type": "execute_result",
          "data": {
            "text/plain": [
              "<seaborn.axisgrid.FacetGrid at 0x7fc55c619d90>"
            ]
          },
          "metadata": {},
          "execution_count": 56
        },
        {
          "output_type": "display_data",
          "data": {
            "text/plain": [
              "<Figure size 360x360 with 1 Axes>"
            ],
            "image/png": "[encoded data removed]"
          },
          "metadata": {
            "needs_background": "light"
          }
        }
      ]
    },
    {
      "cell_type": "code",
      "source": [
        "#Boxplot\n",
        "sns.set_theme(style=\"whitegrid\")\n",
        "ax = sns.boxplot(data = pddf.price, orient=\"h\")"
      ],
      "metadata": {
        "id": "QiWGRU-kUBGh",
        "colab": {
          "base_uri": "https://localhost:8080/",
          "height": 281
        },
        "outputId": "1aa0af71-0e44-45d0-8371-6aee7c98e1e0"
      },
      "execution_count": null,
      "outputs": [
        {
          "output_type": "display_data",
          "data": {
            "text/plain": [
              "<Figure size 432x288 with 1 Axes>"
            ],
            "image/png": "[encoded data removed]"
          },
          "metadata": {}
        }
      ]
    },
    {
      "cell_type": "markdown",
      "source": [
        "## Tratamiento de outliers"
      ],
      "metadata": {
        "id": "fLx9TyFbPjNs"
      }
    },
    {
      "cell_type": "markdown",
      "source": [
        "---\n",
        "El tratamiento de z-score asume que los datos siguen una distribución normal, en base a esto se trazaran límites que escapen de dicha distribución con cierta capadidad de confianza que nosotros mismos definiremos:\n",
        "\n",
        "* LI = Mean - Z*desviacion_estandar\n",
        "* LS = Mean + Z*desviacion_estandar\n",
        "\n",
        "---\n"
      ],
      "metadata": {
        "id": "wq4-Fnt4Pm23"
      }
    },
    {
      "cell_type": "markdown",
      "source": [
        "\n",
        "* Z = 1.64  (90% confianza) \n",
        "* Z = 1.96  (95% confianza) \n",
        "* Z = 2.576 (99% confianza) \n"
      ],
      "metadata": {
        "id": "qqVALDS0Qqq9"
      }
    },
    {
      "cell_type": "markdown",
      "source": [
        "\n",
        "<img src=\"https://editor.analyticsvidhya.com/uploads/440971.png\" width=\"500\" \n",
        "     height=\"300\" > "
      ],
      "metadata": {
        "id": "UXKFIxmOPeN3"
      }
    },
    {
      "cell_type": "code",
      "source": [
        "\n",
        "# Tratamiento por z-score\n",
        "upper_limit = np.mean(pddf.price) + 1.96*np.std(pddf.price)\n",
        "lower_limit = np.mean(pddf.price) - 1.96*np.std(pddf.price)\n",
        "\n"
      ],
      "metadata": {
        "id": "5Vuu8TyNVO2f"
      },
      "execution_count": null,
      "outputs": []
    },
    {
      "cell_type": "code",
      "source": [
        "np.mean(pddf.price)"
      ],
      "metadata": {
        "id": "jHen6HrhRrrB",
        "outputId": "6b547832-0c22-4fbb-9289-bd35b1d0311d",
        "colab": {
          "base_uri": "https://localhost:8080/"
        }
      },
      "execution_count": null,
      "outputs": [
        {
          "output_type": "execute_result",
          "data": {
            "text/plain": [
              "558026.8015333592"
            ]
          },
          "metadata": {},
          "execution_count": 65
        }
      ]
    },
    {
      "cell_type": "code",
      "source": [
        "lower_limit"
      ],
      "metadata": {
        "id": "bDovIdICRTTP",
        "outputId": "33ce36e4-c6bc-4159-9305-b1403497c615",
        "colab": {
          "base_uri": "https://localhost:8080/"
        }
      },
      "execution_count": null,
      "outputs": [
        {
          "output_type": "execute_result",
          "data": {
            "text/plain": [
              "-547160.1348601585"
            ]
          },
          "metadata": {},
          "execution_count": 64
        }
      ]
    },
    {
      "cell_type": "markdown",
      "source": [
        "# Capping\n",
        "\n",
        "Capping o trucar los valores extremos consiste en imputar valores de los límites a casos en los cuales escapen de estos.\n",
        "\n",
        "Por ejemplo: si mi edad es 180 años y el límite superior es 80, automáticamente mi valor de edad será 80 años según este método."
      ],
      "metadata": {
        "id": "xzWKpLwWQ-x_"
      }
    },
    {
      "cell_type": "code",
      "source": [
        "# Capping\n",
        "\n",
        "pddf['price_t'] = pddf.price.apply(lambda x: upper_limit if x > upper_limit\n",
        "                                        else lower_limit if x < lower_limit else x)\n"
      ],
      "metadata": {
        "id": "glg3_RrnQ76M"
      },
      "execution_count": null,
      "outputs": []
    },
    {
      "cell_type": "markdown",
      "source": [],
      "metadata": {
        "id": "WCX-h9EtQ6LB"
      }
    },
    {
      "cell_type": "code",
      "source": [
        "# Gráfico de distribución \n",
        "sns.displot(pddf.price_t, kind=\"kde\", fill=True)"
      ],
      "metadata": {
        "colab": {
          "base_uri": "https://localhost:8080/",
          "height": 382
        },
        "id": "6WE1C-pZWcFR",
        "outputId": "e6492aa9-e572-4b1d-e57a-6c2c9eb3a917"
      },
      "execution_count": null,
      "outputs": [
        {
          "output_type": "execute_result",
          "data": {
            "text/plain": [
              "<seaborn.axisgrid.FacetGrid at 0x7fc55c313430>"
            ]
          },
          "metadata": {},
          "execution_count": 67
        },
        {
          "output_type": "display_data",
          "data": {
            "text/plain": [
              "<Figure size 360x360 with 1 Axes>"
            ],
            "image/png": "[encoded data removed]"
          },
          "metadata": {}
        }
      ]
    },
    {
      "cell_type": "code",
      "source": [
        "pddf.price_t.hist(bins=30)"
      ],
      "metadata": {
        "id": "gxEV_efopu8J",
        "outputId": "ad37f9c1-6153-4ad7-c1ee-2068d967c224",
        "colab": {
          "base_uri": "https://localhost:8080/",
          "height": 298
        }
      },
      "execution_count": null,
      "outputs": [
        {
          "output_type": "execute_result",
          "data": {
            "text/plain": [
              "<AxesSubplot:>"
            ]
          },
          "metadata": {},
          "execution_count": 68
        },
        {
          "output_type": "display_data",
          "data": {
            "text/plain": [
              "<Figure size 432x288 with 1 Axes>"
            ],
            "image/png": "[encoded data removed]"
          },
          "metadata": {}
        }
      ]
    },
    {
      "cell_type": "code",
      "source": [
        "#Boxplot\n",
        "sns.set_theme(style=\"whitegrid\")\n",
        "ax = sns.boxplot(data = pddf.price_t, orient=\"h\")"
      ],
      "metadata": {
        "colab": {
          "base_uri": "https://localhost:8080/",
          "height": 281
        },
        "id": "TEewlTgJWjCy",
        "outputId": "054241b1-5a82-41c4-a6d1-f83d1c278e0b"
      },
      "execution_count": null,
      "outputs": [
        {
          "output_type": "display_data",
          "data": {
            "text/plain": [
              "<Figure size 432x288 with 1 Axes>"
            ],
            "image/png": "[encoded data removed]"
          },
          "metadata": {}
        }
      ]
    },
    {
      "cell_type": "markdown",
      "source": [
        "## 3. Tratamiento de outliers sobre toda la data\n",
        "\n",
        "\n"
      ],
      "metadata": {
        "id": "DaGEONZ3Yl5f"
      }
    },
    {
      "cell_type": "markdown",
      "source": [
        "\n",
        "<img src=\"https://editor.analyticsvidhya.com/uploads/440971.png\" width=\"500\" \n",
        "     height=\"300\" > "
      ],
      "metadata": {
        "id": "SqDKd9B-ZVfT"
      }
    },
    {
      "cell_type": "code",
      "source": [
        "univariate_II.head()\n"
      ],
      "metadata": {
        "id": "FELlMUtNZK_i"
      },
      "execution_count": null,
      "outputs": []
    },
    {
      "cell_type": "code",
      "source": [
        "# Calculando los intervalos Z-score\n",
        "\n",
        "univariate_II['li_zscore'] = univariate_II['mean'] - 1.96*univariate_II['std']\n",
        "univariate_II['ls_zscore'] = univariate_II['mean'] + 1.96*univariate_II['std']\n",
        "\n",
        "univariate_II.head() "
      ],
      "metadata": {
        "id": "C4adckOkZi7H"
      },
      "execution_count": null,
      "outputs": []
    },
    {
      "cell_type": "code",
      "source": [
        "# Tratamiento de outliers por Z-score\n",
        "\n",
        "def zscore(dataframe, univariate, featuresToTreat):\n",
        "  for col in featuresToTreat:\n",
        "    desc = univariate.loc[univariate.feature == col]\n",
        "    dataframe[col + '_tzscore'] = dataframe[col].apply(lambda x: desc.ls_zscore.values[0] if x > desc.ls_zscore.values[0]\n",
        "                                                            else desc.li_zscore.values[0] if x < desc.li_zscore.values[0]\n",
        "                                                            else x)\n",
        "  return dataframe\n"
      ],
      "metadata": {
        "id": "VyvQF5rnZvC2"
      },
      "execution_count": null,
      "outputs": []
    },
    {
      "cell_type": "code",
      "source": [
        "train_I = zscore(train, univariate_II, univariate_II.feature.tolist())\n",
        "test_I  = zscore(test,  univariate_II, univariate_II.feature.tolist())"
      ],
      "metadata": {
        "id": "H1dv330OakSA"
      },
      "execution_count": null,
      "outputs": []
    },
    {
      "cell_type": "code",
      "source": [
        "# generación de gráficos\n",
        "# primero crear una carpeta en path llamada graficos\n",
        "sns.set(rc={'figure.figsize':(6, 4)})\n",
        "featuresTograph = [x + '_tzscore' for x in feature_prefilter]\n",
        "i = 0\n",
        "for col in featuresTograph:\n",
        "  i += 1\n",
        "  print(f\"graficando {col} ({i}/{len(featuresTograph)})\")\n",
        "  sns.jointplot(x = col, y = target + '_tzscore', data = train_I.sample(500), kind=\"reg\", truncate=False, color=\"m\", height=7).savefig(f\"graficos/scatter_{col}.jpg\")\n"
      ],
      "metadata": {
        "id": "_oaOYGHja3fL",
        "outputId": "f268fd97-2224-4c09-fd73-77e666b6fe7f",
        "colab": {
          "base_uri": "https://localhost:8080/",
          "height": 1000
        }
      },
      "execution_count": null,
      "outputs": [
        {
          "output_type": "stream",
          "name": "stdout",
          "text": [
            "graficando sqft_living_tzscore (1/8)\n",
            "graficando bedrooms_tzscore (2/8)\n",
            "graficando waterfront_tzscore (3/8)\n",
            "graficando sqft_above_tzscore (4/8)\n",
            "graficando sqft_basement_tzscore (5/8)\n",
            "graficando view_tzscore (6/8)\n",
            "graficando floors_tzscore (7/8)\n",
            "graficando bathrooms_tzscore (8/8)\n"
          ]
        },
        {
          "output_type": "display_data",
          "data": {
            "text/plain": [
              "<Figure size 504x504 with 3 Axes>"
            ],
            "image/png": "[encoded data removed]"
          },
          "metadata": {}
        },
        {
          "output_type": "display_data",
          "data": {
            "text/plain": [
              "<Figure size 504x504 with 3 Axes>"
            ],
            "image/png": "[encoded data removed]"
          },
          "metadata": {}
        },
        {
          "output_type": "display_data",
          "data": {
            "text/plain": [
              "<Figure size 504x504 with 3 Axes>"
            ],
            "image/png": "[encoded data removed]"
          },
          "metadata": {}
        },
        {
          "output_type": "display_data",
          "data": {
            "text/plain": [
              "<Figure size 504x504 with 3 Axes>"
            ],
            "image/png": "[encoded data removed]"
          },
          "metadata": {}
        },
        {
          "output_type": "display_data",
          "data": {
            "text/plain": [
              "<Figure size 504x504 with 3 Axes>"
            ],
            "image/png": "[encoded data removed]"
          },
          "metadata": {}
        },
        {
          "output_type": "display_data",
          "data": {
            "text/plain": [
              "<Figure size 504x504 with 3 Axes>"
            ],
            "image/png": "[encoded data removed]"
          },
          "metadata": {}
        },
        {
          "output_type": "display_data",
          "data": {
            "text/plain": [
              "<Figure size 504x504 with 3 Axes>"
            ],
            "image/png": "[encoded data removed]"
          },
          "metadata": {}
        },
        {
          "output_type": "display_data",
          "data": {
            "text/plain": [
              "<Figure size 504x504 with 3 Axes>"
            ],
            "image/png": "[encoded data removed]"
          },
          "metadata": {}
        }
      ]
    },
    {
      "cell_type": "markdown",
      "source": [
        "## 3. Tratamiento de missigs\n"
      ],
      "metadata": {
        "id": "vY_vjx1ie_Q8"
      }
    },
    {
      "cell_type": "code",
      "source": [
        "\n",
        "train_II = train_I[[x + '_tzscore' for x in feature_prefilter]].fillna(train_I[[x + '_tzscore' for x in feature_prefilter]].median())\n",
        "test_II  = test_I[[x + '_tzscore' for x in feature_prefilter]].fillna(train_I[[x + '_tzscore' for x in feature_prefilter]].median())\n",
        "\n"
      ],
      "metadata": {
        "id": "4PB3jee_fVlH"
      },
      "execution_count": null,
      "outputs": []
    },
    {
      "cell_type": "code",
      "source": [],
      "metadata": {
        "id": "d4t1IyyUUNYh"
      },
      "execution_count": null,
      "outputs": []
    },
    {
      "cell_type": "markdown",
      "source": [
        "## 4. Estandarización"
      ],
      "metadata": {
        "id": "dMo8hcCihW0p"
      }
    },
    {
      "cell_type": "markdown",
      "source": [
        "La estandarización es un tratamiento en la estadística que consiste en cambiarle la escala a las variables a una distribución con media 0 y desviación estandar 1.\n",
        "\n",
        "Esto se logra facilmente aplicando la siguiente fórmula:\n",
        "\n",
        "\n",
        "\n",
        "*   x_estandar = (x - promedio(x))/desviacion_est(x)\n",
        "\n",
        "---"
      ],
      "metadata": {
        "id": "Zf3VcAVkTy_S"
      }
    },
    {
      "cell_type": "code",
      "source": [
        "train_III = (train_II - train_II.mean())/train_II.std()\n",
        "test_III = (test_II - train_II.mean())/train_II.std()\n"
      ],
      "metadata": {
        "id": "h97JbaShhZWV"
      },
      "execution_count": null,
      "outputs": []
    },
    {
      "cell_type": "markdown",
      "source": [
        "## 5. Modelo de regresión lineal"
      ],
      "metadata": {
        "id": "RJWKVUuVgQZi"
      }
    },
    {
      "cell_type": "code",
      "source": [
        "train_III"
      ],
      "metadata": {
        "id": "BirJNPzPiJTs"
      },
      "execution_count": null,
      "outputs": []
    },
    {
      "cell_type": "code",
      "source": [
        "import statsmodels.api as sm\n",
        "\n",
        "# Fit and summarize OLS model\n",
        "mod = sm.OLS(train_I[[target + '_tzscore']], \n",
        "             sm.add_constant(train_III))\n",
        "res = mod.fit()\n",
        "print(res.summary())\n"
      ],
      "metadata": {
        "colab": {
          "base_uri": "https://localhost:8080/"
        },
        "id": "RJgq8SlxbGF_",
        "outputId": "566c9b21-8cfc-4204-9de4-234eef58d31c"
      },
      "execution_count": null,
      "outputs": [
        {
          "output_type": "stream",
          "name": "stdout",
          "text": [
            "                            OLS Regression Results                            \n",
            "==============================================================================\n",
            "Dep. Variable:          price_tzscore   R-squared:                       0.512\n",
            "Model:                            OLS   Adj. R-squared:                  0.511\n",
            "Method:                 Least Squares   F-statistic:                     416.7\n",
            "Date:                Sat, 11 Mar 2023   Prob (F-statistic):               0.00\n",
            "Time:                        01:42:00   Log-Likelihood:                -43650.\n",
            "No. Observations:                3185   AIC:                         8.732e+04\n",
            "Df Residuals:                    3176   BIC:                         8.737e+04\n",
            "Df Model:                           8                                         \n",
            "Covariance Type:            nonrobust                                         \n",
            "=========================================================================================\n",
            "                            coef    std err          t      P>|t|      [0.025      0.975]\n",
            "-----------------------------------------------------------------------------------------\n",
            "const                   5.39e+05   3843.788    140.216      0.000    5.31e+05    5.46e+05\n",
            "sqft_living_tzscore      1.1e+05   2.79e+04      3.946      0.000    5.53e+04    1.65e+05\n",
            "bedrooms_tzscore      -3.396e+04   5087.238     -6.676      0.000   -4.39e+04    -2.4e+04\n",
            "waterfront_tzscore     2.394e+04   3991.221      5.997      0.000    1.61e+04    3.18e+04\n",
            "sqft_above_tzscore     8.363e+04   2.64e+04      3.169      0.002    3.19e+04    1.35e+05\n",
            "sqft_basement_tzscore   5.66e+04   1.44e+04      3.925      0.000    2.83e+04    8.49e+04\n",
            "view_tzscore           5.036e+04   4266.522     11.804      0.000     4.2e+04    5.87e+04\n",
            "floors_tzscore         2.309e+04   5409.698      4.268      0.000    1.25e+04    3.37e+04\n",
            "bathrooms_tzscore      3893.1043   6442.458      0.604      0.546   -8738.695    1.65e+04\n",
            "==============================================================================\n",
            "Omnibus:                      722.579   Durbin-Watson:                   1.973\n",
            "Prob(Omnibus):                  0.000   Jarque-Bera (JB):             2651.565\n",
            "Skew:                           1.091   Prob(JB):                         0.00\n",
            "Kurtosis:                       6.901   Cond. No.                         19.4\n",
            "==============================================================================\n",
            "\n",
            "Notes:\n",
            "[1] Standard Errors assume that the covariance matrix of the errors is correctly specified.\n"
          ]
        }
      ]
    },
    {
      "cell_type": "code",
      "source": [
        "variables_mod = list(set(train_III.columns.tolist()) - set(['bathrooms_tzscore']))\n",
        "\n",
        "# Fit and summarize OLS model\n",
        "mod = sm.OLS(train_I[[target + '_tzscore']], sm.add_constant(train_III[variables_mod]))\n",
        "res = mod.fit()\n",
        "print(res.summary())\n"
      ],
      "metadata": {
        "colab": {
          "base_uri": "https://localhost:8080/"
        },
        "id": "z-YEookabWBq",
        "outputId": "e893646a-0c85-4adb-9b36-d1a928ec61ef"
      },
      "execution_count": null,
      "outputs": [
        {
          "output_type": "stream",
          "name": "stdout",
          "text": [
            "                            OLS Regression Results                            \n",
            "==============================================================================\n",
            "Dep. Variable:          price_tzscore   R-squared:                       0.512\n",
            "Model:                            OLS   Adj. R-squared:                  0.511\n",
            "Method:                 Least Squares   F-statistic:                     476.3\n",
            "Date:                Sat, 11 Mar 2023   Prob (F-statistic):               0.00\n",
            "Time:                        01:48:41   Log-Likelihood:                -43650.\n",
            "No. Observations:                3185   AIC:                         8.732e+04\n",
            "Df Residuals:                    3177   BIC:                         8.736e+04\n",
            "Df Model:                           7                                         \n",
            "Covariance Type:            nonrobust                                         \n",
            "=========================================================================================\n",
            "                            coef    std err          t      P>|t|      [0.025      0.975]\n",
            "-----------------------------------------------------------------------------------------\n",
            "const                   5.39e+05   3843.404    140.230      0.000    5.31e+05    5.46e+05\n",
            "bedrooms_tzscore      -3.341e+04   5002.760     -6.677      0.000   -4.32e+04   -2.36e+04\n",
            "sqft_basement_tzscore  5.711e+04   1.44e+04      3.968      0.000    2.89e+04    8.53e+04\n",
            "floors_tzscore         2.443e+04   4934.535      4.950      0.000    1.48e+04    3.41e+04\n",
            "sqft_above_tzscore     8.375e+04   2.64e+04      3.174      0.002     3.2e+04    1.35e+05\n",
            "sqft_living_tzscore    1.117e+05   2.77e+04      4.030      0.000    5.74e+04    1.66e+05\n",
            "view_tzscore           5.035e+04   4266.039     11.803      0.000     4.2e+04    5.87e+04\n",
            "waterfront_tzscore     2.389e+04   3990.045      5.987      0.000    1.61e+04    3.17e+04\n",
            "==============================================================================\n",
            "Omnibus:                      722.152   Durbin-Watson:                   1.973\n",
            "Prob(Omnibus):                  0.000   Jarque-Bera (JB):             2656.339\n",
            "Skew:                           1.090   Prob(JB):                         0.00\n",
            "Kurtosis:                       6.907   Cond. No.                         17.3\n",
            "==============================================================================\n",
            "\n",
            "Notes:\n",
            "[1] Standard Errors assume that the covariance matrix of the errors is correctly specified.\n"
          ]
        }
      ]
    },
    {
      "cell_type": "code",
      "source": [
        "variables_mod = list(set(train_III.columns.tolist()) - set(['bathrooms_tzscore', 'bedrooms_tzscore']))\n",
        "\n",
        "# Fit and summarize OLS model\n",
        "mod = sm.OLS(train_I[[target + '_tzscore']], sm.add_constant(train_III[variables_mod]))\n",
        "res = mod.fit()\n",
        "print(res.summary())\n"
      ],
      "metadata": {
        "colab": {
          "base_uri": "https://localhost:8080/"
        },
        "id": "gL85v_BEi42K",
        "outputId": "2815f94d-f0e1-42f9-a680-5b2f05a9db9e"
      },
      "execution_count": null,
      "outputs": [
        {
          "output_type": "stream",
          "name": "stdout",
          "text": [
            "                            OLS Regression Results                            \n",
            "==============================================================================\n",
            "Dep. Variable:          price_tzscore   R-squared:                       0.505\n",
            "Model:                            OLS   Adj. R-squared:                  0.504\n",
            "Method:                 Least Squares   F-statistic:                     540.8\n",
            "Date:                Sat, 11 Mar 2023   Prob (F-statistic):               0.00\n",
            "Time:                        01:54:39   Log-Likelihood:                -43672.\n",
            "No. Observations:                3185   AIC:                         8.736e+04\n",
            "Df Residuals:                    3178   BIC:                         8.740e+04\n",
            "Df Model:                           6                                         \n",
            "Covariance Type:            nonrobust                                         \n",
            "=========================================================================================\n",
            "                            coef    std err          t      P>|t|      [0.025      0.975]\n",
            "-----------------------------------------------------------------------------------------\n",
            "const                   5.39e+05   3869.671    139.278      0.000    5.31e+05    5.47e+05\n",
            "sqft_basement_tzscore  4.656e+04   1.44e+04      3.232      0.001    1.83e+04    7.48e+04\n",
            "floors_tzscore         2.491e+04   4967.718      5.015      0.000    1.52e+04    3.47e+04\n",
            "sqft_above_tzscore      7.12e+04   2.65e+04      2.687      0.007    1.92e+04    1.23e+05\n",
            "sqft_living_tzscore    1.045e+05   2.79e+04      3.748      0.000    4.98e+04    1.59e+05\n",
            "view_tzscore           5.375e+04   4264.573     12.603      0.000    4.54e+04    6.21e+04\n",
            "waterfront_tzscore     2.519e+04   4012.528      6.278      0.000    1.73e+04    3.31e+04\n",
            "==============================================================================\n",
            "Omnibus:                      714.229   Durbin-Watson:                   1.967\n",
            "Prob(Omnibus):                  0.000   Jarque-Bera (JB):             2560.820\n",
            "Skew:                           1.086   Prob(JB):                         0.00\n",
            "Kurtosis:                       6.818   Cond. No.                         16.0\n",
            "==============================================================================\n",
            "\n",
            "Notes:\n",
            "[1] Standard Errors assume that the covariance matrix of the errors is correctly specified.\n"
          ]
        }
      ]
    },
    {
      "cell_type": "code",
      "source": [
        "modelo = pd.DataFrame({'coeficiente' : res.params})\n",
        "modelo.reset_index(inplace = True)\n",
        "modelo.rename(columns = {'index': 'feature'}, inplace = True)\n",
        "modelo = modelo.loc[modelo.feature != 'const']\n",
        "modelo['peso'] = modelo.coeficiente/modelo.coeficiente.sum()\n",
        "modelo.sort_values(by = 'peso', ascending = False, inplace = True)\n",
        "modelo\n"
      ],
      "metadata": {
        "colab": {
          "base_uri": "https://localhost:8080/",
          "height": 238
        },
        "id": "5lSO1qY-k3uQ",
        "outputId": "25efd5a6-b59c-43fd-fc83-def36f4f6417"
      },
      "execution_count": null,
      "outputs": [
        {
          "output_type": "execute_result",
          "data": {
            "text/plain": [
              "                 feature    coeficiente      peso\n",
              "4    sqft_living_tzscore  104525.534115  0.320504\n",
              "3     sqft_above_tzscore   71198.432896  0.218314\n",
              "5           view_tzscore   53745.548822  0.164798\n",
              "1  sqft_basement_tzscore   46555.621795  0.142752\n",
              "6     waterfront_tzscore   25189.327451  0.077237\n",
              "2         floors_tzscore   24914.636578  0.076395"
            ],
            "text/html": [
              "\n",
              "  <div id=\"df-f3b9b451-4021-469a-92ae-726a767d81e3\">\n",
              "    <div class=\"colab-df-container\">\n",
              "      <div>\n",
              "<style scoped>\n",
              "    .dataframe tbody tr th:only-of-type {\n",
              "        vertical-align: middle;\n",
              "    }\n",
              "\n",
              "    .dataframe tbody tr th {\n",
              "        vertical-align: top;\n",
              "    }\n",
              "\n",
              "    .dataframe thead th {\n",
              "        text-align: right;\n",
              "    }\n",
              "</style>\n",
              "<table border=\"1\" class=\"dataframe\">\n",
              "  <thead>\n",
              "    <tr style=\"text-align: right;\">\n",
              "      <th></th>\n",
              "      <th>feature</th>\n",
              "      <th>coeficiente</th>\n",
              "      <th>peso</th>\n",
              "    </tr>\n",
              "  </thead>\n",
              "  <tbody>\n",
              "    <tr>\n",
              "      <th>4</th>\n",
              "      <td>sqft_living_tzscore</td>\n",
              "      <td>104525.534115</td>\n",
              "      <td>0.320504</td>\n",
              "    </tr>\n",
              "    <tr>\n",
              "      <th>3</th>\n",
              "      <td>sqft_above_tzscore</td>\n",
              "      <td>71198.432896</td>\n",
              "      <td>0.218314</td>\n",
              "    </tr>\n",
              "    <tr>\n",
              "      <th>5</th>\n",
              "      <td>view_tzscore</td>\n",
              "      <td>53745.548822</td>\n",
              "      <td>0.164798</td>\n",
              "    </tr>\n",
              "    <tr>\n",
              "      <th>1</th>\n",
              "      <td>sqft_basement_tzscore</td>\n",
              "      <td>46555.621795</td>\n",
              "      <td>0.142752</td>\n",
              "    </tr>\n",
              "    <tr>\n",
              "      <th>6</th>\n",
              "      <td>waterfront_tzscore</td>\n",
              "      <td>25189.327451</td>\n",
              "      <td>0.077237</td>\n",
              "    </tr>\n",
              "    <tr>\n",
              "      <th>2</th>\n",
              "      <td>floors_tzscore</td>\n",
              "      <td>24914.636578</td>\n",
              "      <td>0.076395</td>\n",
              "    </tr>\n",
              "  </tbody>\n",
              "</table>\n",
              "</div>\n",
              "      <button class=\"colab-df-convert\" onclick=\"convertToInteractive('df-f3b9b451-4021-469a-92ae-726a767d81e3')\"\n",
              "              title=\"Convert this dataframe to an interactive table.\"\n",
              "              style=\"display:none;\">\n",
              "        \n",
              "  <svg xmlns=\"http://www.w3.org/2000/svg\" height=\"24px\"viewBox=\"0 0 24 24\"\n",
              "       width=\"24px\">\n",
              "    <path d=\"M0 0h24v24H0V0z\" fill=\"none\"/>\n",
              "    <path d=\"M18.56 5.44l.94 2.06.94-2.06 2.06-.94-2.06-.94-.94-2.06-.94 2.06-2.06.94zm-11 1L8.5 8.5l.94-2.06 2.06-.94-2.06-.94L8.5 2.5l-.94 2.06-2.06.94zm10 10l.94 2.06.94-2.06 2.06-.94-2.06-.94-.94-2.06-.94 2.06-2.06.94z\"/><path d=\"M17.41 7.96l-1.37-1.37c-.4-.4-.92-.59-1.43-.59-.52 0-1.04.2-1.43.59L10.3 9.45l-7.72 7.72c-.78.78-.78 2.05 0 2.83L4 21.41c.39.39.9.59 1.41.59.51 0 1.02-.2 1.41-.59l7.78-7.78 2.81-2.81c.8-.78.8-2.07 0-2.86zM5.41 20L4 18.59l7.72-7.72 1.47 1.35L5.41 20z\"/>\n",
              "  </svg>\n",
              "      </button>\n",
              "      \n",
              "  <style>\n",
              "    .colab-df-container {\n",
              "      display:flex;\n",
              "      flex-wrap:wrap;\n",
              "      gap: 12px;\n",
              "    }\n",
              "\n",
              "    .colab-df-convert {\n",
              "      background-color: #E8F0FE;\n",
              "      border: none;\n",
              "      border-radius: 50%;\n",
              "      cursor: pointer;\n",
              "      display: none;\n",
              "      fill: #1967D2;\n",
              "      height: 32px;\n",
              "      padding: 0 0 0 0;\n",
              "      width: 32px;\n",
              "    }\n",
              "\n",
              "    .colab-df-convert:hover {\n",
              "      background-color: #E2EBFA;\n",
              "      box-shadow: 0px 1px 2px rgba(60, 64, 67, 0.3), 0px 1px 3px 1px rgba(60, 64, 67, 0.15);\n",
              "      fill: #174EA6;\n",
              "    }\n",
              "\n",
              "    [theme=dark] .colab-df-convert {\n",
              "      background-color: #3B4455;\n",
              "      fill: #D2E3FC;\n",
              "    }\n",
              "\n",
              "    [theme=dark] .colab-df-convert:hover {\n",
              "      background-color: #434B5C;\n",
              "      box-shadow: 0px 1px 3px 1px rgba(0, 0, 0, 0.15);\n",
              "      filter: drop-shadow(0px 1px 2px rgba(0, 0, 0, 0.3));\n",
              "      fill: #FFFFFF;\n",
              "    }\n",
              "  </style>\n",
              "\n",
              "      <script>\n",
              "        const buttonEl =\n",
              "          document.querySelector('#df-f3b9b451-4021-469a-92ae-726a767d81e3 button.colab-df-convert');\n",
              "        buttonEl.style.display =\n",
              "          google.colab.kernel.accessAllowed ? 'block' : 'none';\n",
              "\n",
              "        async function convertToInteractive(key) {\n",
              "          const element = document.querySelector('#df-f3b9b451-4021-469a-92ae-726a767d81e3');\n",
              "          const dataTable =\n",
              "            await google.colab.kernel.invokeFunction('convertToInteractive',\n",
              "                                                     [key], {});\n",
              "          if (!dataTable) return;\n",
              "\n",
              "          const docLinkHtml = 'Like what you see? Visit the ' +\n",
              "            '<a target=\"_blank\" href=https://colab.research.google.com/notebooks/data_table.ipynb>data table notebook</a>'\n",
              "            + ' to learn more about interactive tables.';\n",
              "          element.innerHTML = '';\n",
              "          dataTable['output_type'] = 'display_data';\n",
              "          await google.colab.output.renderOutput(dataTable, element);\n",
              "          const docLink = document.createElement('div');\n",
              "          docLink.innerHTML = docLinkHtml;\n",
              "          element.appendChild(docLink);\n",
              "        }\n",
              "      </script>\n",
              "    </div>\n",
              "  </div>\n",
              "  "
            ]
          },
          "metadata": {},
          "execution_count": 85
        }
      ]
    },
    {
      "cell_type": "markdown",
      "source": [
        "## 6. Control de correlaciones"
      ],
      "metadata": {
        "id": "zfjcJ5a2khIK"
      }
    },
    {
      "cell_type": "code",
      "source": [
        "train_III[variables_mod].corr()"
      ],
      "metadata": {
        "colab": {
          "base_uri": "https://localhost:8080/",
          "height": 238
        },
        "id": "luRtH-xAkn9K",
        "outputId": "28d7db01-996d-470d-d4ef-04c2bda848e1"
      },
      "execution_count": null,
      "outputs": [
        {
          "output_type": "execute_result",
          "data": {
            "text/plain": [
              "                       sqft_basement_tzscore  floors_tzscore  \\\n",
              "sqft_basement_tzscore               1.000000       -0.289357   \n",
              "floors_tzscore                     -0.289357        1.000000   \n",
              "sqft_above_tzscore                 -0.125715        0.579654   \n",
              "sqft_living_tzscore                 0.380818        0.376946   \n",
              "view_tzscore                        0.292287        0.019359   \n",
              "waterfront_tzscore                  0.065665        0.000738   \n",
              "\n",
              "                       sqft_above_tzscore  sqft_living_tzscore  view_tzscore  \\\n",
              "sqft_basement_tzscore           -0.125715             0.380818      0.292287   \n",
              "floors_tzscore                   0.579654             0.376946      0.019359   \n",
              "sqft_above_tzscore               1.000000             0.858863      0.154690   \n",
              "sqft_living_tzscore              0.858863             1.000000      0.283302   \n",
              "view_tzscore                     0.154690             0.283302      1.000000   \n",
              "waterfront_tzscore               0.049413             0.071874      0.260305   \n",
              "\n",
              "                       waterfront_tzscore  \n",
              "sqft_basement_tzscore            0.065665  \n",
              "floors_tzscore                   0.000738  \n",
              "sqft_above_tzscore               0.049413  \n",
              "sqft_living_tzscore              0.071874  \n",
              "view_tzscore                     0.260305  \n",
              "waterfront_tzscore               1.000000  "
            ],
            "text/html": [
              "\n",
              "  <div id=\"df-fe57514a-613f-41d3-996d-8b6a6305e70e\">\n",
              "    <div class=\"colab-df-container\">\n",
              "      <div>\n",
              "<style scoped>\n",
              "    .dataframe tbody tr th:only-of-type {\n",
              "        vertical-align: middle;\n",
              "    }\n",
              "\n",
              "    .dataframe tbody tr th {\n",
              "        vertical-align: top;\n",
              "    }\n",
              "\n",
              "    .dataframe thead th {\n",
              "        text-align: right;\n",
              "    }\n",
              "</style>\n",
              "<table border=\"1\" class=\"dataframe\">\n",
              "  <thead>\n",
              "    <tr style=\"text-align: right;\">\n",
              "      <th></th>\n",
              "      <th>sqft_basement_tzscore</th>\n",
              "      <th>floors_tzscore</th>\n",
              "      <th>sqft_above_tzscore</th>\n",
              "      <th>sqft_living_tzscore</th>\n",
              "      <th>view_tzscore</th>\n",
              "      <th>waterfront_tzscore</th>\n",
              "    </tr>\n",
              "  </thead>\n",
              "  <tbody>\n",
              "    <tr>\n",
              "      <th>sqft_basement_tzscore</th>\n",
              "      <td>1.000000</td>\n",
              "      <td>-0.289357</td>\n",
              "      <td>-0.125715</td>\n",
              "      <td>0.380818</td>\n",
              "      <td>0.292287</td>\n",
              "      <td>0.065665</td>\n",
              "    </tr>\n",
              "    <tr>\n",
              "      <th>floors_tzscore</th>\n",
              "      <td>-0.289357</td>\n",
              "      <td>1.000000</td>\n",
              "      <td>0.579654</td>\n",
              "      <td>0.376946</td>\n",
              "      <td>0.019359</td>\n",
              "      <td>0.000738</td>\n",
              "    </tr>\n",
              "    <tr>\n",
              "      <th>sqft_above_tzscore</th>\n",
              "      <td>-0.125715</td>\n",
              "      <td>0.579654</td>\n",
              "      <td>1.000000</td>\n",
              "      <td>0.858863</td>\n",
              "      <td>0.154690</td>\n",
              "      <td>0.049413</td>\n",
              "    </tr>\n",
              "    <tr>\n",
              "      <th>sqft_living_tzscore</th>\n",
              "      <td>0.380818</td>\n",
              "      <td>0.376946</td>\n",
              "      <td>0.858863</td>\n",
              "      <td>1.000000</td>\n",
              "      <td>0.283302</td>\n",
              "      <td>0.071874</td>\n",
              "    </tr>\n",
              "    <tr>\n",
              "      <th>view_tzscore</th>\n",
              "      <td>0.292287</td>\n",
              "      <td>0.019359</td>\n",
              "      <td>0.154690</td>\n",
              "      <td>0.283302</td>\n",
              "      <td>1.000000</td>\n",
              "      <td>0.260305</td>\n",
              "    </tr>\n",
              "    <tr>\n",
              "      <th>waterfront_tzscore</th>\n",
              "      <td>0.065665</td>\n",
              "      <td>0.000738</td>\n",
              "      <td>0.049413</td>\n",
              "      <td>0.071874</td>\n",
              "      <td>0.260305</td>\n",
              "      <td>1.000000</td>\n",
              "    </tr>\n",
              "  </tbody>\n",
              "</table>\n",
              "</div>\n",
              "      <button class=\"colab-df-convert\" onclick=\"convertToInteractive('df-fe57514a-613f-41d3-996d-8b6a6305e70e')\"\n",
              "              title=\"Convert this dataframe to an interactive table.\"\n",
              "              style=\"display:none;\">\n",
              "        \n",
              "  <svg xmlns=\"http://www.w3.org/2000/svg\" height=\"24px\"viewBox=\"0 0 24 24\"\n",
              "       width=\"24px\">\n",
              "    <path d=\"M0 0h24v24H0V0z\" fill=\"none\"/>\n",
              "    <path d=\"M18.56 5.44l.94 2.06.94-2.06 2.06-.94-2.06-.94-.94-2.06-.94 2.06-2.06.94zm-11 1L8.5 8.5l.94-2.06 2.06-.94-2.06-.94L8.5 2.5l-.94 2.06-2.06.94zm10 10l.94 2.06.94-2.06 2.06-.94-2.06-.94-.94-2.06-.94 2.06-2.06.94z\"/><path d=\"M17.41 7.96l-1.37-1.37c-.4-.4-.92-.59-1.43-.59-.52 0-1.04.2-1.43.59L10.3 9.45l-7.72 7.72c-.78.78-.78 2.05 0 2.83L4 21.41c.39.39.9.59 1.41.59.51 0 1.02-.2 1.41-.59l7.78-7.78 2.81-2.81c.8-.78.8-2.07 0-2.86zM5.41 20L4 18.59l7.72-7.72 1.47 1.35L5.41 20z\"/>\n",
              "  </svg>\n",
              "      </button>\n",
              "      \n",
              "  <style>\n",
              "    .colab-df-container {\n",
              "      display:flex;\n",
              "      flex-wrap:wrap;\n",
              "      gap: 12px;\n",
              "    }\n",
              "\n",
              "    .colab-df-convert {\n",
              "      background-color: #E8F0FE;\n",
              "      border: none;\n",
              "      border-radius: 50%;\n",
              "      cursor: pointer;\n",
              "      display: none;\n",
              "      fill: #1967D2;\n",
              "      height: 32px;\n",
              "      padding: 0 0 0 0;\n",
              "      width: 32px;\n",
              "    }\n",
              "\n",
              "    .colab-df-convert:hover {\n",
              "      background-color: #E2EBFA;\n",
              "      box-shadow: 0px 1px 2px rgba(60, 64, 67, 0.3), 0px 1px 3px 1px rgba(60, 64, 67, 0.15);\n",
              "      fill: #174EA6;\n",
              "    }\n",
              "\n",
              "    [theme=dark] .colab-df-convert {\n",
              "      background-color: #3B4455;\n",
              "      fill: #D2E3FC;\n",
              "    }\n",
              "\n",
              "    [theme=dark] .colab-df-convert:hover {\n",
              "      background-color: #434B5C;\n",
              "      box-shadow: 0px 1px 3px 1px rgba(0, 0, 0, 0.15);\n",
              "      filter: drop-shadow(0px 1px 2px rgba(0, 0, 0, 0.3));\n",
              "      fill: #FFFFFF;\n",
              "    }\n",
              "  </style>\n",
              "\n",
              "      <script>\n",
              "        const buttonEl =\n",
              "          document.querySelector('#df-fe57514a-613f-41d3-996d-8b6a6305e70e button.colab-df-convert');\n",
              "        buttonEl.style.display =\n",
              "          google.colab.kernel.accessAllowed ? 'block' : 'none';\n",
              "\n",
              "        async function convertToInteractive(key) {\n",
              "          const element = document.querySelector('#df-fe57514a-613f-41d3-996d-8b6a6305e70e');\n",
              "          const dataTable =\n",
              "            await google.colab.kernel.invokeFunction('convertToInteractive',\n",
              "                                                     [key], {});\n",
              "          if (!dataTable) return;\n",
              "\n",
              "          const docLinkHtml = 'Like what you see? Visit the ' +\n",
              "            '<a target=\"_blank\" href=https://colab.research.google.com/notebooks/data_table.ipynb>data table notebook</a>'\n",
              "            + ' to learn more about interactive tables.';\n",
              "          element.innerHTML = '';\n",
              "          dataTable['output_type'] = 'display_data';\n",
              "          await google.colab.output.renderOutput(dataTable, element);\n",
              "          const docLink = document.createElement('div');\n",
              "          docLink.innerHTML = docLinkHtml;\n",
              "          element.appendChild(docLink);\n",
              "        }\n",
              "      </script>\n",
              "    </div>\n",
              "  </div>\n",
              "  "
            ]
          },
          "metadata": {},
          "execution_count": 87
        }
      ]
    },
    {
      "cell_type": "code",
      "source": [
        "variables_mod = list(set(train_III.columns.tolist()) - set(['bathrooms_tzscore', 'bedrooms_tzscore', 'sqft_above_tzscore']))\n",
        "\n",
        "# Fit and summarize OLS model\n",
        "mod = sm.OLS(train_I[[target + '_tzscore']], sm.add_constant(train_III[variables_mod]))\n",
        "res = mod.fit()\n",
        "print(res.summary())\n"
      ],
      "metadata": {
        "id": "Z_UGju8RZuHI",
        "outputId": "6d2c42e9-4273-4ae2-a148-26161be56585",
        "colab": {
          "base_uri": "https://localhost:8080/"
        }
      },
      "execution_count": null,
      "outputs": [
        {
          "output_type": "stream",
          "name": "stdout",
          "text": [
            "                            OLS Regression Results                            \n",
            "==============================================================================\n",
            "Dep. Variable:          price_tzscore   R-squared:                       0.504\n",
            "Model:                            OLS   Adj. R-squared:                  0.503\n",
            "Method:                 Least Squares   F-statistic:                     646.3\n",
            "Date:                Sat, 11 Mar 2023   Prob (F-statistic):               0.00\n",
            "Time:                        02:02:43   Log-Likelihood:                -43676.\n",
            "No. Observations:                3185   AIC:                         8.736e+04\n",
            "Df Residuals:                    3179   BIC:                         8.740e+04\n",
            "Df Model:                           5                                         \n",
            "Covariance Type:            nonrobust                                         \n",
            "=========================================================================================\n",
            "                            coef    std err          t      P>|t|      [0.025      0.975]\n",
            "-----------------------------------------------------------------------------------------\n",
            "const                   5.39e+05   3873.454    139.142      0.000    5.31e+05    5.47e+05\n",
            "sqft_basement_tzscore  1.021e+04   4940.890      2.066      0.039     518.151    1.99e+04\n",
            "floors_tzscore         2.788e+04   4847.884      5.752      0.000    1.84e+04    3.74e+04\n",
            "sqft_living_tzscore    1.782e+05   5083.114     35.057      0.000    1.68e+05    1.88e+05\n",
            "view_tzscore           5.434e+04   4263.058     12.746      0.000     4.6e+04    6.27e+04\n",
            "waterfront_tzscore     2.564e+04   4012.890      6.390      0.000    1.78e+04    3.35e+04\n",
            "==============================================================================\n",
            "Omnibus:                      713.574   Durbin-Watson:                   1.967\n",
            "Prob(Omnibus):                  0.000   Jarque-Bera (JB):             2567.000\n",
            "Skew:                           1.084   Prob(JB):                         0.00\n",
            "Kurtosis:                       6.827   Cond. No.                         2.39\n",
            "==============================================================================\n",
            "\n",
            "Notes:\n",
            "[1] Standard Errors assume that the covariance matrix of the errors is correctly specified.\n"
          ]
        }
      ]
    },
    {
      "cell_type": "code",
      "source": [
        "train_III[variables_mod].corr()"
      ],
      "metadata": {
        "id": "Bhwdc7AjaDyB",
        "outputId": "786be744-9879-4d87-b5fd-9f4cae5113e7",
        "colab": {
          "base_uri": "https://localhost:8080/",
          "height": 206
        }
      },
      "execution_count": null,
      "outputs": [
        {
          "output_type": "execute_result",
          "data": {
            "text/plain": [
              "                       sqft_basement_tzscore  floors_tzscore  \\\n",
              "sqft_basement_tzscore               1.000000       -0.289357   \n",
              "floors_tzscore                     -0.289357        1.000000   \n",
              "sqft_living_tzscore                 0.380818        0.376946   \n",
              "view_tzscore                        0.292287        0.019359   \n",
              "waterfront_tzscore                  0.065665        0.000738   \n",
              "\n",
              "                       sqft_living_tzscore  view_tzscore  waterfront_tzscore  \n",
              "sqft_basement_tzscore             0.380818      0.292287            0.065665  \n",
              "floors_tzscore                    0.376946      0.019359            0.000738  \n",
              "sqft_living_tzscore               1.000000      0.283302            0.071874  \n",
              "view_tzscore                      0.283302      1.000000            0.260305  \n",
              "waterfront_tzscore                0.071874      0.260305            1.000000  "
            ],
            "text/html": [
              "\n",
              "  <div id=\"df-1381ce74-222a-41b0-aa91-3e56be3c04fe\">\n",
              "    <div class=\"colab-df-container\">\n",
              "      <div>\n",
              "<style scoped>\n",
              "    .dataframe tbody tr th:only-of-type {\n",
              "        vertical-align: middle;\n",
              "    }\n",
              "\n",
              "    .dataframe tbody tr th {\n",
              "        vertical-align: top;\n",
              "    }\n",
              "\n",
              "    .dataframe thead th {\n",
              "        text-align: right;\n",
              "    }\n",
              "</style>\n",
              "<table border=\"1\" class=\"dataframe\">\n",
              "  <thead>\n",
              "    <tr style=\"text-align: right;\">\n",
              "      <th></th>\n",
              "      <th>sqft_basement_tzscore</th>\n",
              "      <th>floors_tzscore</th>\n",
              "      <th>sqft_living_tzscore</th>\n",
              "      <th>view_tzscore</th>\n",
              "      <th>waterfront_tzscore</th>\n",
              "    </tr>\n",
              "  </thead>\n",
              "  <tbody>\n",
              "    <tr>\n",
              "      <th>sqft_basement_tzscore</th>\n",
              "      <td>1.000000</td>\n",
              "      <td>-0.289357</td>\n",
              "      <td>0.380818</td>\n",
              "      <td>0.292287</td>\n",
              "      <td>0.065665</td>\n",
              "    </tr>\n",
              "    <tr>\n",
              "      <th>floors_tzscore</th>\n",
              "      <td>-0.289357</td>\n",
              "      <td>1.000000</td>\n",
              "      <td>0.376946</td>\n",
              "      <td>0.019359</td>\n",
              "      <td>0.000738</td>\n",
              "    </tr>\n",
              "    <tr>\n",
              "      <th>sqft_living_tzscore</th>\n",
              "      <td>0.380818</td>\n",
              "      <td>0.376946</td>\n",
              "      <td>1.000000</td>\n",
              "      <td>0.283302</td>\n",
              "      <td>0.071874</td>\n",
              "    </tr>\n",
              "    <tr>\n",
              "      <th>view_tzscore</th>\n",
              "      <td>0.292287</td>\n",
              "      <td>0.019359</td>\n",
              "      <td>0.283302</td>\n",
              "      <td>1.000000</td>\n",
              "      <td>0.260305</td>\n",
              "    </tr>\n",
              "    <tr>\n",
              "      <th>waterfront_tzscore</th>\n",
              "      <td>0.065665</td>\n",
              "      <td>0.000738</td>\n",
              "      <td>0.071874</td>\n",
              "      <td>0.260305</td>\n",
              "      <td>1.000000</td>\n",
              "    </tr>\n",
              "  </tbody>\n",
              "</table>\n",
              "</div>\n",
              "      <button class=\"colab-df-convert\" onclick=\"convertToInteractive('df-1381ce74-222a-41b0-aa91-3e56be3c04fe')\"\n",
              "              title=\"Convert this dataframe to an interactive table.\"\n",
              "              style=\"display:none;\">\n",
              "        \n",
              "  <svg xmlns=\"http://www.w3.org/2000/svg\" height=\"24px\"viewBox=\"0 0 24 24\"\n",
              "       width=\"24px\">\n",
              "    <path d=\"M0 0h24v24H0V0z\" fill=\"none\"/>\n",
              "    <path d=\"M18.56 5.44l.94 2.06.94-2.06 2.06-.94-2.06-.94-.94-2.06-.94 2.06-2.06.94zm-11 1L8.5 8.5l.94-2.06 2.06-.94-2.06-.94L8.5 2.5l-.94 2.06-2.06.94zm10 10l.94 2.06.94-2.06 2.06-.94-2.06-.94-.94-2.06-.94 2.06-2.06.94z\"/><path d=\"M17.41 7.96l-1.37-1.37c-.4-.4-.92-.59-1.43-.59-.52 0-1.04.2-1.43.59L10.3 9.45l-7.72 7.72c-.78.78-.78 2.05 0 2.83L4 21.41c.39.39.9.59 1.41.59.51 0 1.02-.2 1.41-.59l7.78-7.78 2.81-2.81c.8-.78.8-2.07 0-2.86zM5.41 20L4 18.59l7.72-7.72 1.47 1.35L5.41 20z\"/>\n",
              "  </svg>\n",
              "      </button>\n",
              "      \n",
              "  <style>\n",
              "    .colab-df-container {\n",
              "      display:flex;\n",
              "      flex-wrap:wrap;\n",
              "      gap: 12px;\n",
              "    }\n",
              "\n",
              "    .colab-df-convert {\n",
              "      background-color: #E8F0FE;\n",
              "      border: none;\n",
              "      border-radius: 50%;\n",
              "      cursor: pointer;\n",
              "      display: none;\n",
              "      fill: #1967D2;\n",
              "      height: 32px;\n",
              "      padding: 0 0 0 0;\n",
              "      width: 32px;\n",
              "    }\n",
              "\n",
              "    .colab-df-convert:hover {\n",
              "      background-color: #E2EBFA;\n",
              "      box-shadow: 0px 1px 2px rgba(60, 64, 67, 0.3), 0px 1px 3px 1px rgba(60, 64, 67, 0.15);\n",
              "      fill: #174EA6;\n",
              "    }\n",
              "\n",
              "    [theme=dark] .colab-df-convert {\n",
              "      background-color: #3B4455;\n",
              "      fill: #D2E3FC;\n",
              "    }\n",
              "\n",
              "    [theme=dark] .colab-df-convert:hover {\n",
              "      background-color: #434B5C;\n",
              "      box-shadow: 0px 1px 3px 1px rgba(0, 0, 0, 0.15);\n",
              "      filter: drop-shadow(0px 1px 2px rgba(0, 0, 0, 0.3));\n",
              "      fill: #FFFFFF;\n",
              "    }\n",
              "  </style>\n",
              "\n",
              "      <script>\n",
              "        const buttonEl =\n",
              "          document.querySelector('#df-1381ce74-222a-41b0-aa91-3e56be3c04fe button.colab-df-convert');\n",
              "        buttonEl.style.display =\n",
              "          google.colab.kernel.accessAllowed ? 'block' : 'none';\n",
              "\n",
              "        async function convertToInteractive(key) {\n",
              "          const element = document.querySelector('#df-1381ce74-222a-41b0-aa91-3e56be3c04fe');\n",
              "          const dataTable =\n",
              "            await google.colab.kernel.invokeFunction('convertToInteractive',\n",
              "                                                     [key], {});\n",
              "          if (!dataTable) return;\n",
              "\n",
              "          const docLinkHtml = 'Like what you see? Visit the ' +\n",
              "            '<a target=\"_blank\" href=https://colab.research.google.com/notebooks/data_table.ipynb>data table notebook</a>'\n",
              "            + ' to learn more about interactive tables.';\n",
              "          element.innerHTML = '';\n",
              "          dataTable['output_type'] = 'display_data';\n",
              "          await google.colab.output.renderOutput(dataTable, element);\n",
              "          const docLink = document.createElement('div');\n",
              "          docLink.innerHTML = docLinkHtml;\n",
              "          element.appendChild(docLink);\n",
              "        }\n",
              "      </script>\n",
              "    </div>\n",
              "  </div>\n",
              "  "
            ]
          },
          "metadata": {},
          "execution_count": 89
        }
      ]
    },
    {
      "cell_type": "markdown",
      "source": [
        "## 7. Evaluación en test"
      ],
      "metadata": {
        "id": "-6KpfG5MmZVG"
      }
    },
    {
      "cell_type": "code",
      "source": [
        "train_III[variables_mod]"
      ],
      "metadata": {
        "id": "8Xbwp8F4mqha"
      },
      "execution_count": null,
      "outputs": []
    },
    {
      "cell_type": "code",
      "source": [
        "train_VI = sm.add_constant(train_III[variables_mod])\n",
        "test_VI = sm.add_constant(test_III[variables_mod])\n",
        "\n",
        "train_VI['prediction'] = res.predict(train_VI)\n",
        "test_VI['prediction'] = res.predict(test_VI)\n",
        "\n",
        "train_VI[target + '_tzscore'] = train_I[[target + '_tzscore']]\n",
        "test_VI[target + '_tzscore'] = test_I[[target + '_tzscore']]\n"
      ],
      "metadata": {
        "id": "6k_HnAYvmcv0"
      },
      "execution_count": null,
      "outputs": []
    },
    {
      "cell_type": "code",
      "source": [
        "from sklearn.metrics import r2_score"
      ],
      "metadata": {
        "id": "zyRhdc7KnxX_"
      },
      "execution_count": null,
      "outputs": []
    },
    {
      "cell_type": "code",
      "source": [
        "\n",
        "print(f'R2 en train: {r2_score(train_VI[target + \"_tzscore\"], train_VI.prediction)}')\n",
        "print(f'R2 en test:  {r2_score(test_VI[target + \"_tzscore\"], test_VI.prediction)}')\n"
      ],
      "metadata": {
        "colab": {
          "base_uri": "https://localhost:8080/"
        },
        "id": "yUbNSi8VnQ-v",
        "outputId": "653fe4d7-dbd2-4956-e397-4411c359451c"
      },
      "execution_count": null,
      "outputs": [
        {
          "output_type": "stream",
          "name": "stdout",
          "text": [
            "R2 en train: 0.5040958272897036\n",
            "R2 en test:  0.48365244889018955\n"
          ]
        }
      ]
    },
    {
      "cell_type": "code",
      "source": [
        "test_VI[['prediction', target + '_tzscore']].head()"
      ],
      "metadata": {
        "id": "A8E3uYjcaWQz",
        "outputId": "c4a91e3e-9e19-488b-a7f0-f6f4424ac26a",
        "colab": {
          "base_uri": "https://localhost:8080/",
          "height": 206
        }
      },
      "execution_count": null,
      "outputs": [
        {
          "output_type": "execute_result",
          "data": {
            "text/plain": [
              "         prediction  price_tzscore\n",
              "2039  539825.164571       809950.0\n",
              "3215  453882.324282       437000.0\n",
              "2457  829700.843961       622500.0\n",
              "3053  496088.562967       550000.0\n",
              "822   313820.279360       238000.0"
            ],
            "text/html": [
              "\n",
              "  <div id=\"df-9fbddf80-db79-4cbc-aa13-5effa8488cd4\">\n",
              "    <div class=\"colab-df-container\">\n",
              "      <div>\n",
              "<style scoped>\n",
              "    .dataframe tbody tr th:only-of-type {\n",
              "        vertical-align: middle;\n",
              "    }\n",
              "\n",
              "    .dataframe tbody tr th {\n",
              "        vertical-align: top;\n",
              "    }\n",
              "\n",
              "    .dataframe thead th {\n",
              "        text-align: right;\n",
              "    }\n",
              "</style>\n",
              "<table border=\"1\" class=\"dataframe\">\n",
              "  <thead>\n",
              "    <tr style=\"text-align: right;\">\n",
              "      <th></th>\n",
              "      <th>prediction</th>\n",
              "      <th>price_tzscore</th>\n",
              "    </tr>\n",
              "  </thead>\n",
              "  <tbody>\n",
              "    <tr>\n",
              "      <th>2039</th>\n",
              "      <td>539825.164571</td>\n",
              "      <td>809950.0</td>\n",
              "    </tr>\n",
              "    <tr>\n",
              "      <th>3215</th>\n",
              "      <td>453882.324282</td>\n",
              "      <td>437000.0</td>\n",
              "    </tr>\n",
              "    <tr>\n",
              "      <th>2457</th>\n",
              "      <td>829700.843961</td>\n",
              "      <td>622500.0</td>\n",
              "    </tr>\n",
              "    <tr>\n",
              "      <th>3053</th>\n",
              "      <td>496088.562967</td>\n",
              "      <td>550000.0</td>\n",
              "    </tr>\n",
              "    <tr>\n",
              "      <th>822</th>\n",
              "      <td>313820.279360</td>\n",
              "      <td>238000.0</td>\n",
              "    </tr>\n",
              "  </tbody>\n",
              "</table>\n",
              "</div>\n",
              "      <button class=\"colab-df-convert\" onclick=\"convertToInteractive('df-9fbddf80-db79-4cbc-aa13-5effa8488cd4')\"\n",
              "              title=\"Convert this dataframe to an interactive table.\"\n",
              "              style=\"display:none;\">\n",
              "        \n",
              "  <svg xmlns=\"http://www.w3.org/2000/svg\" height=\"24px\"viewBox=\"0 0 24 24\"\n",
              "       width=\"24px\">\n",
              "    <path d=\"M0 0h24v24H0V0z\" fill=\"none\"/>\n",
              "    <path d=\"M18.56 5.44l.94 2.06.94-2.06 2.06-.94-2.06-.94-.94-2.06-.94 2.06-2.06.94zm-11 1L8.5 8.5l.94-2.06 2.06-.94-2.06-.94L8.5 2.5l-.94 2.06-2.06.94zm10 10l.94 2.06.94-2.06 2.06-.94-2.06-.94-.94-2.06-.94 2.06-2.06.94z\"/><path d=\"M17.41 7.96l-1.37-1.37c-.4-.4-.92-.59-1.43-.59-.52 0-1.04.2-1.43.59L10.3 9.45l-7.72 7.72c-.78.78-.78 2.05 0 2.83L4 21.41c.39.39.9.59 1.41.59.51 0 1.02-.2 1.41-.59l7.78-7.78 2.81-2.81c.8-.78.8-2.07 0-2.86zM5.41 20L4 18.59l7.72-7.72 1.47 1.35L5.41 20z\"/>\n",
              "  </svg>\n",
              "      </button>\n",
              "      \n",
              "  <style>\n",
              "    .colab-df-container {\n",
              "      display:flex;\n",
              "      flex-wrap:wrap;\n",
              "      gap: 12px;\n",
              "    }\n",
              "\n",
              "    .colab-df-convert {\n",
              "      background-color: #E8F0FE;\n",
              "      border: none;\n",
              "      border-radius: 50%;\n",
              "      cursor: pointer;\n",
              "      display: none;\n",
              "      fill: #1967D2;\n",
              "      height: 32px;\n",
              "      padding: 0 0 0 0;\n",
              "      width: 32px;\n",
              "    }\n",
              "\n",
              "    .colab-df-convert:hover {\n",
              "      background-color: #E2EBFA;\n",
              "      box-shadow: 0px 1px 2px rgba(60, 64, 67, 0.3), 0px 1px 3px 1px rgba(60, 64, 67, 0.15);\n",
              "      fill: #174EA6;\n",
              "    }\n",
              "\n",
              "    [theme=dark] .colab-df-convert {\n",
              "      background-color: #3B4455;\n",
              "      fill: #D2E3FC;\n",
              "    }\n",
              "\n",
              "    [theme=dark] .colab-df-convert:hover {\n",
              "      background-color: #434B5C;\n",
              "      box-shadow: 0px 1px 3px 1px rgba(0, 0, 0, 0.15);\n",
              "      filter: drop-shadow(0px 1px 2px rgba(0, 0, 0, 0.3));\n",
              "      fill: #FFFFFF;\n",
              "    }\n",
              "  </style>\n",
              "\n",
              "      <script>\n",
              "        const buttonEl =\n",
              "          document.querySelector('#df-9fbddf80-db79-4cbc-aa13-5effa8488cd4 button.colab-df-convert');\n",
              "        buttonEl.style.display =\n",
              "          google.colab.kernel.accessAllowed ? 'block' : 'none';\n",
              "\n",
              "        async function convertToInteractive(key) {\n",
              "          const element = document.querySelector('#df-9fbddf80-db79-4cbc-aa13-5effa8488cd4');\n",
              "          const dataTable =\n",
              "            await google.colab.kernel.invokeFunction('convertToInteractive',\n",
              "                                                     [key], {});\n",
              "          if (!dataTable) return;\n",
              "\n",
              "          const docLinkHtml = 'Like what you see? Visit the ' +\n",
              "            '<a target=\"_blank\" href=https://colab.research.google.com/notebooks/data_table.ipynb>data table notebook</a>'\n",
              "            + ' to learn more about interactive tables.';\n",
              "          element.innerHTML = '';\n",
              "          dataTable['output_type'] = 'display_data';\n",
              "          await google.colab.output.renderOutput(dataTable, element);\n",
              "          const docLink = document.createElement('div');\n",
              "          docLink.innerHTML = docLinkHtml;\n",
              "          element.appendChild(docLink);\n",
              "        }\n",
              "      </script>\n",
              "    </div>\n",
              "  </div>\n",
              "  "
            ]
          },
          "metadata": {},
          "execution_count": 95
        }
      ]
    },
    {
      "cell_type": "code",
      "source": [
        "test_VI['error'] = test_VI['prediction'] - test_VI[target + '_tzscore']\n",
        "test_VI['error_rel'] = test_VI['error']/test_VI[target + '_tzscore']\n",
        "\n",
        "test_VI[['prediction', target + '_tzscore', 'error_rel']]"
      ],
      "metadata": {
        "id": "SnePilSyfUDY",
        "outputId": "f39276ba-f083-4b98-806d-d6d4664b412c",
        "colab": {
          "base_uri": "https://localhost:8080/",
          "height": 424
        }
      },
      "execution_count": null,
      "outputs": [
        {
          "output_type": "execute_result",
          "data": {
            "text/plain": [
              "        prediction  price_tzscore  error_rel\n",
              "2039  5.398252e+05   8.099500e+05  -0.333508\n",
              "3215  4.538823e+05   4.370000e+05   0.038632\n",
              "2457  8.297008e+05   6.225000e+05   0.332853\n",
              "3053  4.960886e+05   5.500000e+05  -0.098021\n",
              "822   3.138203e+05   2.380000e+05   0.318573\n",
              "...            ...            ...        ...\n",
              "1621  4.629012e+05   5.600000e+05  -0.173391\n",
              "2951  4.503548e+05   2.910000e+05   0.547611\n",
              "2772  1.481313e+06   1.789486e+06  -0.172213\n",
              "1161  2.711371e+05   3.200000e+05  -0.152696\n",
              "3007  9.708800e+05   1.080000e+06  -0.101037\n",
              "\n",
              "[1365 rows x 3 columns]"
            ],
            "text/html": [
              "\n",
              "  <div id=\"df-a43e9930-2ef3-475b-a8b3-70c5692a9083\">\n",
              "    <div class=\"colab-df-container\">\n",
              "      <div>\n",
              "<style scoped>\n",
              "    .dataframe tbody tr th:only-of-type {\n",
              "        vertical-align: middle;\n",
              "    }\n",
              "\n",
              "    .dataframe tbody tr th {\n",
              "        vertical-align: top;\n",
              "    }\n",
              "\n",
              "    .dataframe thead th {\n",
              "        text-align: right;\n",
              "    }\n",
              "</style>\n",
              "<table border=\"1\" class=\"dataframe\">\n",
              "  <thead>\n",
              "    <tr style=\"text-align: right;\">\n",
              "      <th></th>\n",
              "      <th>prediction</th>\n",
              "      <th>price_tzscore</th>\n",
              "      <th>error_rel</th>\n",
              "    </tr>\n",
              "  </thead>\n",
              "  <tbody>\n",
              "    <tr>\n",
              "      <th>2039</th>\n",
              "      <td>5.398252e+05</td>\n",
              "      <td>8.099500e+05</td>\n",
              "      <td>-0.333508</td>\n",
              "    </tr>\n",
              "    <tr>\n",
              "      <th>3215</th>\n",
              "      <td>4.538823e+05</td>\n",
              "      <td>4.370000e+05</td>\n",
              "      <td>0.038632</td>\n",
              "    </tr>\n",
              "    <tr>\n",
              "      <th>2457</th>\n",
              "      <td>8.297008e+05</td>\n",
              "      <td>6.225000e+05</td>\n",
              "      <td>0.332853</td>\n",
              "    </tr>\n",
              "    <tr>\n",
              "      <th>3053</th>\n",
              "      <td>4.960886e+05</td>\n",
              "      <td>5.500000e+05</td>\n",
              "      <td>-0.098021</td>\n",
              "    </tr>\n",
              "    <tr>\n",
              "      <th>822</th>\n",
              "      <td>3.138203e+05</td>\n",
              "      <td>2.380000e+05</td>\n",
              "      <td>0.318573</td>\n",
              "    </tr>\n",
              "    <tr>\n",
              "      <th>...</th>\n",
              "      <td>...</td>\n",
              "      <td>...</td>\n",
              "      <td>...</td>\n",
              "    </tr>\n",
              "    <tr>\n",
              "      <th>1621</th>\n",
              "      <td>4.629012e+05</td>\n",
              "      <td>5.600000e+05</td>\n",
              "      <td>-0.173391</td>\n",
              "    </tr>\n",
              "    <tr>\n",
              "      <th>2951</th>\n",
              "      <td>4.503548e+05</td>\n",
              "      <td>2.910000e+05</td>\n",
              "      <td>0.547611</td>\n",
              "    </tr>\n",
              "    <tr>\n",
              "      <th>2772</th>\n",
              "      <td>1.481313e+06</td>\n",
              "      <td>1.789486e+06</td>\n",
              "      <td>-0.172213</td>\n",
              "    </tr>\n",
              "    <tr>\n",
              "      <th>1161</th>\n",
              "      <td>2.711371e+05</td>\n",
              "      <td>3.200000e+05</td>\n",
              "      <td>-0.152696</td>\n",
              "    </tr>\n",
              "    <tr>\n",
              "      <th>3007</th>\n",
              "      <td>9.708800e+05</td>\n",
              "      <td>1.080000e+06</td>\n",
              "      <td>-0.101037</td>\n",
              "    </tr>\n",
              "  </tbody>\n",
              "</table>\n",
              "<p>1365 rows × 3 columns</p>\n",
              "</div>\n",
              "      <button class=\"colab-df-convert\" onclick=\"convertToInteractive('df-a43e9930-2ef3-475b-a8b3-70c5692a9083')\"\n",
              "              title=\"Convert this dataframe to an interactive table.\"\n",
              "              style=\"display:none;\">\n",
              "        \n",
              "  <svg xmlns=\"http://www.w3.org/2000/svg\" height=\"24px\"viewBox=\"0 0 24 24\"\n",
              "       width=\"24px\">\n",
              "    <path d=\"M0 0h24v24H0V0z\" fill=\"none\"/>\n",
              "    <path d=\"M18.56 5.44l.94 2.06.94-2.06 2.06-.94-2.06-.94-.94-2.06-.94 2.06-2.06.94zm-11 1L8.5 8.5l.94-2.06 2.06-.94-2.06-.94L8.5 2.5l-.94 2.06-2.06.94zm10 10l.94 2.06.94-2.06 2.06-.94-2.06-.94-.94-2.06-.94 2.06-2.06.94z\"/><path d=\"M17.41 7.96l-1.37-1.37c-.4-.4-.92-.59-1.43-.59-.52 0-1.04.2-1.43.59L10.3 9.45l-7.72 7.72c-.78.78-.78 2.05 0 2.83L4 21.41c.39.39.9.59 1.41.59.51 0 1.02-.2 1.41-.59l7.78-7.78 2.81-2.81c.8-.78.8-2.07 0-2.86zM5.41 20L4 18.59l7.72-7.72 1.47 1.35L5.41 20z\"/>\n",
              "  </svg>\n",
              "      </button>\n",
              "      \n",
              "  <style>\n",
              "    .colab-df-container {\n",
              "      display:flex;\n",
              "      flex-wrap:wrap;\n",
              "      gap: 12px;\n",
              "    }\n",
              "\n",
              "    .colab-df-convert {\n",
              "      background-color: #E8F0FE;\n",
              "      border: none;\n",
              "      border-radius: 50%;\n",
              "      cursor: pointer;\n",
              "      display: none;\n",
              "      fill: #1967D2;\n",
              "      height: 32px;\n",
              "      padding: 0 0 0 0;\n",
              "      width: 32px;\n",
              "    }\n",
              "\n",
              "    .colab-df-convert:hover {\n",
              "      background-color: #E2EBFA;\n",
              "      box-shadow: 0px 1px 2px rgba(60, 64, 67, 0.3), 0px 1px 3px 1px rgba(60, 64, 67, 0.15);\n",
              "      fill: #174EA6;\n",
              "    }\n",
              "\n",
              "    [theme=dark] .colab-df-convert {\n",
              "      background-color: #3B4455;\n",
              "      fill: #D2E3FC;\n",
              "    }\n",
              "\n",
              "    [theme=dark] .colab-df-convert:hover {\n",
              "      background-color: #434B5C;\n",
              "      box-shadow: 0px 1px 3px 1px rgba(0, 0, 0, 0.15);\n",
              "      filter: drop-shadow(0px 1px 2px rgba(0, 0, 0, 0.3));\n",
              "      fill: #FFFFFF;\n",
              "    }\n",
              "  </style>\n",
              "\n",
              "      <script>\n",
              "        const buttonEl =\n",
              "          document.querySelector('#df-a43e9930-2ef3-475b-a8b3-70c5692a9083 button.colab-df-convert');\n",
              "        buttonEl.style.display =\n",
              "          google.colab.kernel.accessAllowed ? 'block' : 'none';\n",
              "\n",
              "        async function convertToInteractive(key) {\n",
              "          const element = document.querySelector('#df-a43e9930-2ef3-475b-a8b3-70c5692a9083');\n",
              "          const dataTable =\n",
              "            await google.colab.kernel.invokeFunction('convertToInteractive',\n",
              "                                                     [key], {});\n",
              "          if (!dataTable) return;\n",
              "\n",
              "          const docLinkHtml = 'Like what you see? Visit the ' +\n",
              "            '<a target=\"_blank\" href=https://colab.research.google.com/notebooks/data_table.ipynb>data table notebook</a>'\n",
              "            + ' to learn more about interactive tables.';\n",
              "          element.innerHTML = '';\n",
              "          dataTable['output_type'] = 'display_data';\n",
              "          await google.colab.output.renderOutput(dataTable, element);\n",
              "          const docLink = document.createElement('div');\n",
              "          docLink.innerHTML = docLinkHtml;\n",
              "          element.appendChild(docLink);\n",
              "        }\n",
              "      </script>\n",
              "    </div>\n",
              "  </div>\n",
              "  "
            ]
          },
          "metadata": {},
          "execution_count": 100
        }
      ]
    },
    {
      "cell_type": "code",
      "source": [
        "def rango_error(x):\n",
        "  if abs(x) > 0.5:\n",
        "    return '>+-50%'\n",
        "  elif abs(x) >= 0.25:\n",
        "    return '<+-50%'\n",
        "  elif abs(x) < 0.25:\n",
        "    return '<+-25%'\n"
      ],
      "metadata": {
        "id": "TGFZ7z25f_ex"
      },
      "execution_count": null,
      "outputs": []
    },
    {
      "cell_type": "code",
      "source": [
        "test_VI['rango_error'] = test_VI.error_rel.apply(lambda x: rango_error(x))"
      ],
      "metadata": {
        "id": "goJAwJNfhFTU"
      },
      "execution_count": null,
      "outputs": []
    },
    {
      "cell_type": "code",
      "source": [
        "test_VI.groupby('rango_error')['error_rel'].count()"
      ],
      "metadata": {
        "id": "kIE6xypWhYrd",
        "outputId": "6b22a32c-6ac9-43aa-93e5-b80a280e189f",
        "colab": {
          "base_uri": "https://localhost:8080/"
        }
      },
      "execution_count": null,
      "outputs": [
        {
          "output_type": "execute_result",
          "data": {
            "text/plain": [
              "rango_error\n",
              "<+-25%    673\n",
              "<+-50%    414\n",
              ">+-50%    278\n",
              "Name: error_rel, dtype: int64"
            ]
          },
          "metadata": {},
          "execution_count": 106
        }
      ]
    },
    {
      "cell_type": "code",
      "source": [
        "673/(673+414+278)"
      ],
      "metadata": {
        "id": "nitbd1WahitX",
        "outputId": "40f1e855-666f-4d1e-ff8e-ccaaed0415e7",
        "colab": {
          "base_uri": "https://localhost:8080/"
        }
      },
      "execution_count": null,
      "outputs": [
        {
          "output_type": "execute_result",
          "data": {
            "text/plain": [
              "0.49304029304029307"
            ]
          },
          "metadata": {},
          "execution_count": 107
        }
      ]
    },
    {
      "cell_type": "code",
      "source": [
        "414/(673+414+278)"
      ],
      "metadata": {
        "id": "wzLH4itDh2T0",
        "outputId": "4bff00c9-dfb1-4045-fe76-8b1f11a2d603",
        "colab": {
          "base_uri": "https://localhost:8080/"
        }
      },
      "execution_count": null,
      "outputs": [
        {
          "output_type": "execute_result",
          "data": {
            "text/plain": [
              "0.3032967032967033"
            ]
          },
          "metadata": {},
          "execution_count": 108
        }
      ]
    }
  ]
}